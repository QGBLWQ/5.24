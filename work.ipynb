{
 "cells": [
  {
   "cell_type": "markdown",
   "id": "ebc3d5ae53febd97",
   "metadata": {},
   "source": [
    "全局变量"
   ]
  },
  {
   "cell_type": "code",
   "execution_count": 56,
   "id": "9be8f94cf838bd5d",
   "metadata": {
    "ExecuteTime": {
     "end_time": "2024-05-25T03:42:22.767895300Z",
     "start_time": "2024-05-25T03:42:22.763029200Z"
    }
   },
   "outputs": [],
   "source": [
    "import pandas as pd\n",
    "import numpy as np\n",
    "import matplotlib.pyplot as plt\n",
    "from mpl_toolkits.mplot3d import Axes3D\n",
    "WindProducePrice = 0.5 #风电成本 元/kwh\n",
    "LightProducePrice = 0.4 #光电成本 元/kwh\n",
    "BuyInPrice = 1 #主电网购入成本 元/kwh\n",
    "batteryCapacity = 100 #电池容量 kwh\n",
    "batteryPower = 50 #电池功率 kw"
   ]
  },
  {
   "cell_type": "markdown",
   "id": "a8e11f4117f90b8f",
   "metadata": {},
   "source": [
    "#数据预处理#"
   ]
  },
  {
   "cell_type": "code",
   "execution_count": 2,
   "id": "4704f1f7add87ebb",
   "metadata": {
    "ExecuteTime": {
     "end_time": "2024-05-25T02:33:32.399144700Z",
     "start_time": "2024-05-25T02:33:32.188348200Z"
    }
   },
   "outputs": [
    {
     "data": {
      "text/plain": "       时间（h）  园区A负荷(kW)  园区B负荷(kW)  园区C负荷(kW)\n0   00:00:00        275        241        302\n1   01:00:00        275        253        292\n2   02:00:00        277        329        307\n3   03:00:00        310        315        293\n4   04:00:00        310        290        271\n5   05:00:00        293        270        252\n6   06:00:00        293        307        283\n7   07:00:00        380        354        223\n8   08:00:00        375        264        292\n9   09:00:00        281        315        283\n10  10:00:00        447        313        287\n11  11:00:00        447        291        362\n12  12:00:00        447        360        446\n13  13:00:00        405        369        504\n14  14:00:00        404        389        455\n15  15:00:00        403        419        506\n16  16:00:00        268        412        283\n17  17:00:00        313        291        311\n18  18:00:00        287        379        418\n19  19:00:00        288        303        223\n20  20:00:00        284        331        229\n21  21:00:00        287        306        361\n22  22:00:00        277        285        302\n23  23:00:00        275        324        291",
      "text/html": "<div>\n<style scoped>\n    .dataframe tbody tr th:only-of-type {\n        vertical-align: middle;\n    }\n\n    .dataframe tbody tr th {\n        vertical-align: top;\n    }\n\n    .dataframe thead th {\n        text-align: right;\n    }\n</style>\n<table border=\"1\" class=\"dataframe\">\n  <thead>\n    <tr style=\"text-align: right;\">\n      <th></th>\n      <th>时间（h）</th>\n      <th>园区A负荷(kW)</th>\n      <th>园区B负荷(kW)</th>\n      <th>园区C负荷(kW)</th>\n    </tr>\n  </thead>\n  <tbody>\n    <tr>\n      <th>0</th>\n      <td>00:00:00</td>\n      <td>275</td>\n      <td>241</td>\n      <td>302</td>\n    </tr>\n    <tr>\n      <th>1</th>\n      <td>01:00:00</td>\n      <td>275</td>\n      <td>253</td>\n      <td>292</td>\n    </tr>\n    <tr>\n      <th>2</th>\n      <td>02:00:00</td>\n      <td>277</td>\n      <td>329</td>\n      <td>307</td>\n    </tr>\n    <tr>\n      <th>3</th>\n      <td>03:00:00</td>\n      <td>310</td>\n      <td>315</td>\n      <td>293</td>\n    </tr>\n    <tr>\n      <th>4</th>\n      <td>04:00:00</td>\n      <td>310</td>\n      <td>290</td>\n      <td>271</td>\n    </tr>\n    <tr>\n      <th>5</th>\n      <td>05:00:00</td>\n      <td>293</td>\n      <td>270</td>\n      <td>252</td>\n    </tr>\n    <tr>\n      <th>6</th>\n      <td>06:00:00</td>\n      <td>293</td>\n      <td>307</td>\n      <td>283</td>\n    </tr>\n    <tr>\n      <th>7</th>\n      <td>07:00:00</td>\n      <td>380</td>\n      <td>354</td>\n      <td>223</td>\n    </tr>\n    <tr>\n      <th>8</th>\n      <td>08:00:00</td>\n      <td>375</td>\n      <td>264</td>\n      <td>292</td>\n    </tr>\n    <tr>\n      <th>9</th>\n      <td>09:00:00</td>\n      <td>281</td>\n      <td>315</td>\n      <td>283</td>\n    </tr>\n    <tr>\n      <th>10</th>\n      <td>10:00:00</td>\n      <td>447</td>\n      <td>313</td>\n      <td>287</td>\n    </tr>\n    <tr>\n      <th>11</th>\n      <td>11:00:00</td>\n      <td>447</td>\n      <td>291</td>\n      <td>362</td>\n    </tr>\n    <tr>\n      <th>12</th>\n      <td>12:00:00</td>\n      <td>447</td>\n      <td>360</td>\n      <td>446</td>\n    </tr>\n    <tr>\n      <th>13</th>\n      <td>13:00:00</td>\n      <td>405</td>\n      <td>369</td>\n      <td>504</td>\n    </tr>\n    <tr>\n      <th>14</th>\n      <td>14:00:00</td>\n      <td>404</td>\n      <td>389</td>\n      <td>455</td>\n    </tr>\n    <tr>\n      <th>15</th>\n      <td>15:00:00</td>\n      <td>403</td>\n      <td>419</td>\n      <td>506</td>\n    </tr>\n    <tr>\n      <th>16</th>\n      <td>16:00:00</td>\n      <td>268</td>\n      <td>412</td>\n      <td>283</td>\n    </tr>\n    <tr>\n      <th>17</th>\n      <td>17:00:00</td>\n      <td>313</td>\n      <td>291</td>\n      <td>311</td>\n    </tr>\n    <tr>\n      <th>18</th>\n      <td>18:00:00</td>\n      <td>287</td>\n      <td>379</td>\n      <td>418</td>\n    </tr>\n    <tr>\n      <th>19</th>\n      <td>19:00:00</td>\n      <td>288</td>\n      <td>303</td>\n      <td>223</td>\n    </tr>\n    <tr>\n      <th>20</th>\n      <td>20:00:00</td>\n      <td>284</td>\n      <td>331</td>\n      <td>229</td>\n    </tr>\n    <tr>\n      <th>21</th>\n      <td>21:00:00</td>\n      <td>287</td>\n      <td>306</td>\n      <td>361</td>\n    </tr>\n    <tr>\n      <th>22</th>\n      <td>22:00:00</td>\n      <td>277</td>\n      <td>285</td>\n      <td>302</td>\n    </tr>\n    <tr>\n      <th>23</th>\n      <td>23:00:00</td>\n      <td>275</td>\n      <td>324</td>\n      <td>291</td>\n    </tr>\n  </tbody>\n</table>\n</div>"
     },
     "execution_count": 2,
     "metadata": {},
     "output_type": "execute_result"
    }
   ],
   "source": [
    "data1 = pd.read_excel('A题附件1：各园区典型日负荷数据.xlsx')\n",
    "data1"
   ]
  },
  {
   "cell_type": "code",
   "execution_count": 3,
   "id": "118299cb28181c0e",
   "metadata": {
    "ExecuteTime": {
     "end_time": "2024-05-25T02:33:32.511531500Z",
     "start_time": "2024-05-25T02:33:32.399144700Z"
    }
   },
   "outputs": [
    {
     "data": {
      "text/plain": "   说明：表中数据标幺值以相应的风/光额定装机容量为基准 Unnamed: 1 Unnamed: 2 Unnamed: 3 Unnamed: 4  \\\n0                    00:00:00          0      230.1          0       73.2   \n1                    01:00:00          0      382.8          0     108.75   \n2                    02:00:00          0      296.8          0     197.95   \n3                    03:00:00          0      444.4          0      91.55   \n4                    04:00:00          0      502.9          0      235.8   \n5                    05:00:00          0      360.9          0     310.75   \n6                    06:00:00          0      240.2          0      147.3   \n7                    07:00:00       4.35       47.3        6.3       60.7   \n8                    08:00:00     226.95      153.8      196.8       12.5   \n9                    09:00:00      451.5      106.8     378.84     151.15   \n10                   10:00:00    578.325       51.8     476.16        9.8   \n11                   11:00:00    641.625      216.9      535.5       61.2   \n12                   12:00:00    639.825      354.6     539.94     166.75   \n13                   13:00:00     588.15      219.4     493.26     132.65   \n14                   14:00:00    482.775        111     400.02         61   \n15                   15:00:00     318.15      218.6      256.5      81.65   \n16                   16:00:00     46.425      377.9      12.96     132.25   \n17                   17:00:00          0      342.1          0      170.4   \n18                   18:00:00          0      500.8          0     159.15   \n19                   19:00:00          0      464.6          0     164.95   \n20                   20:00:00          0      219.7          0      85.15   \n21                   21:00:00          0      178.3          0      82.75   \n22                   22:00:00          0      153.5          0      94.85   \n23                   23:00:00          0          0          0     116.15   \n\n   Unnamed: 5 Unnamed: 6 Unnamed: 7 Unnamed: 8  \n0        73.2      303.3        818      514.7  \n1      108.75     491.55        820     328.45  \n2      197.95     494.75        913     418.25  \n3       91.55     535.95        918     382.05  \n4       235.8      738.7        871      132.3  \n5      310.75     671.65        815     143.35  \n6       147.3      387.5        883      495.5  \n7          67     118.65        957     838.35  \n8       209.3     590.05        931     340.95  \n9      529.99    1088.29        879    -209.29  \n10     485.96   1116.085       1047    -69.085  \n11      596.7   1455.225       1100   -355.225  \n12     706.69   1701.115       1253   -448.115  \n13     625.91    1433.46       1278    -155.46  \n14     461.02   1054.795       1248    193.205  \n15     338.15      874.9       1328      453.1  \n16     145.21    569.535        963    393.465  \n17      170.4      512.5        915      402.5  \n18     159.15     659.95       1084     424.05  \n19     164.95     629.55        814     184.45  \n20      85.15     304.85        844     539.15  \n21      82.75     261.05        954     692.95  \n22      94.85     248.35        864     615.65  \n23     116.15     116.15        890     773.85  ",
      "text/html": "<div>\n<style scoped>\n    .dataframe tbody tr th:only-of-type {\n        vertical-align: middle;\n    }\n\n    .dataframe tbody tr th {\n        vertical-align: top;\n    }\n\n    .dataframe thead th {\n        text-align: right;\n    }\n</style>\n<table border=\"1\" class=\"dataframe\">\n  <thead>\n    <tr style=\"text-align: right;\">\n      <th></th>\n      <th>说明：表中数据标幺值以相应的风/光额定装机容量为基准</th>\n      <th>Unnamed: 1</th>\n      <th>Unnamed: 2</th>\n      <th>Unnamed: 3</th>\n      <th>Unnamed: 4</th>\n      <th>Unnamed: 5</th>\n      <th>Unnamed: 6</th>\n      <th>Unnamed: 7</th>\n      <th>Unnamed: 8</th>\n    </tr>\n  </thead>\n  <tbody>\n    <tr>\n      <th>0</th>\n      <td>00:00:00</td>\n      <td>0</td>\n      <td>230.1</td>\n      <td>0</td>\n      <td>73.2</td>\n      <td>73.2</td>\n      <td>303.3</td>\n      <td>818</td>\n      <td>514.7</td>\n    </tr>\n    <tr>\n      <th>1</th>\n      <td>01:00:00</td>\n      <td>0</td>\n      <td>382.8</td>\n      <td>0</td>\n      <td>108.75</td>\n      <td>108.75</td>\n      <td>491.55</td>\n      <td>820</td>\n      <td>328.45</td>\n    </tr>\n    <tr>\n      <th>2</th>\n      <td>02:00:00</td>\n      <td>0</td>\n      <td>296.8</td>\n      <td>0</td>\n      <td>197.95</td>\n      <td>197.95</td>\n      <td>494.75</td>\n      <td>913</td>\n      <td>418.25</td>\n    </tr>\n    <tr>\n      <th>3</th>\n      <td>03:00:00</td>\n      <td>0</td>\n      <td>444.4</td>\n      <td>0</td>\n      <td>91.55</td>\n      <td>91.55</td>\n      <td>535.95</td>\n      <td>918</td>\n      <td>382.05</td>\n    </tr>\n    <tr>\n      <th>4</th>\n      <td>04:00:00</td>\n      <td>0</td>\n      <td>502.9</td>\n      <td>0</td>\n      <td>235.8</td>\n      <td>235.8</td>\n      <td>738.7</td>\n      <td>871</td>\n      <td>132.3</td>\n    </tr>\n    <tr>\n      <th>5</th>\n      <td>05:00:00</td>\n      <td>0</td>\n      <td>360.9</td>\n      <td>0</td>\n      <td>310.75</td>\n      <td>310.75</td>\n      <td>671.65</td>\n      <td>815</td>\n      <td>143.35</td>\n    </tr>\n    <tr>\n      <th>6</th>\n      <td>06:00:00</td>\n      <td>0</td>\n      <td>240.2</td>\n      <td>0</td>\n      <td>147.3</td>\n      <td>147.3</td>\n      <td>387.5</td>\n      <td>883</td>\n      <td>495.5</td>\n    </tr>\n    <tr>\n      <th>7</th>\n      <td>07:00:00</td>\n      <td>4.35</td>\n      <td>47.3</td>\n      <td>6.3</td>\n      <td>60.7</td>\n      <td>67</td>\n      <td>118.65</td>\n      <td>957</td>\n      <td>838.35</td>\n    </tr>\n    <tr>\n      <th>8</th>\n      <td>08:00:00</td>\n      <td>226.95</td>\n      <td>153.8</td>\n      <td>196.8</td>\n      <td>12.5</td>\n      <td>209.3</td>\n      <td>590.05</td>\n      <td>931</td>\n      <td>340.95</td>\n    </tr>\n    <tr>\n      <th>9</th>\n      <td>09:00:00</td>\n      <td>451.5</td>\n      <td>106.8</td>\n      <td>378.84</td>\n      <td>151.15</td>\n      <td>529.99</td>\n      <td>1088.29</td>\n      <td>879</td>\n      <td>-209.29</td>\n    </tr>\n    <tr>\n      <th>10</th>\n      <td>10:00:00</td>\n      <td>578.325</td>\n      <td>51.8</td>\n      <td>476.16</td>\n      <td>9.8</td>\n      <td>485.96</td>\n      <td>1116.085</td>\n      <td>1047</td>\n      <td>-69.085</td>\n    </tr>\n    <tr>\n      <th>11</th>\n      <td>11:00:00</td>\n      <td>641.625</td>\n      <td>216.9</td>\n      <td>535.5</td>\n      <td>61.2</td>\n      <td>596.7</td>\n      <td>1455.225</td>\n      <td>1100</td>\n      <td>-355.225</td>\n    </tr>\n    <tr>\n      <th>12</th>\n      <td>12:00:00</td>\n      <td>639.825</td>\n      <td>354.6</td>\n      <td>539.94</td>\n      <td>166.75</td>\n      <td>706.69</td>\n      <td>1701.115</td>\n      <td>1253</td>\n      <td>-448.115</td>\n    </tr>\n    <tr>\n      <th>13</th>\n      <td>13:00:00</td>\n      <td>588.15</td>\n      <td>219.4</td>\n      <td>493.26</td>\n      <td>132.65</td>\n      <td>625.91</td>\n      <td>1433.46</td>\n      <td>1278</td>\n      <td>-155.46</td>\n    </tr>\n    <tr>\n      <th>14</th>\n      <td>14:00:00</td>\n      <td>482.775</td>\n      <td>111</td>\n      <td>400.02</td>\n      <td>61</td>\n      <td>461.02</td>\n      <td>1054.795</td>\n      <td>1248</td>\n      <td>193.205</td>\n    </tr>\n    <tr>\n      <th>15</th>\n      <td>15:00:00</td>\n      <td>318.15</td>\n      <td>218.6</td>\n      <td>256.5</td>\n      <td>81.65</td>\n      <td>338.15</td>\n      <td>874.9</td>\n      <td>1328</td>\n      <td>453.1</td>\n    </tr>\n    <tr>\n      <th>16</th>\n      <td>16:00:00</td>\n      <td>46.425</td>\n      <td>377.9</td>\n      <td>12.96</td>\n      <td>132.25</td>\n      <td>145.21</td>\n      <td>569.535</td>\n      <td>963</td>\n      <td>393.465</td>\n    </tr>\n    <tr>\n      <th>17</th>\n      <td>17:00:00</td>\n      <td>0</td>\n      <td>342.1</td>\n      <td>0</td>\n      <td>170.4</td>\n      <td>170.4</td>\n      <td>512.5</td>\n      <td>915</td>\n      <td>402.5</td>\n    </tr>\n    <tr>\n      <th>18</th>\n      <td>18:00:00</td>\n      <td>0</td>\n      <td>500.8</td>\n      <td>0</td>\n      <td>159.15</td>\n      <td>159.15</td>\n      <td>659.95</td>\n      <td>1084</td>\n      <td>424.05</td>\n    </tr>\n    <tr>\n      <th>19</th>\n      <td>19:00:00</td>\n      <td>0</td>\n      <td>464.6</td>\n      <td>0</td>\n      <td>164.95</td>\n      <td>164.95</td>\n      <td>629.55</td>\n      <td>814</td>\n      <td>184.45</td>\n    </tr>\n    <tr>\n      <th>20</th>\n      <td>20:00:00</td>\n      <td>0</td>\n      <td>219.7</td>\n      <td>0</td>\n      <td>85.15</td>\n      <td>85.15</td>\n      <td>304.85</td>\n      <td>844</td>\n      <td>539.15</td>\n    </tr>\n    <tr>\n      <th>21</th>\n      <td>21:00:00</td>\n      <td>0</td>\n      <td>178.3</td>\n      <td>0</td>\n      <td>82.75</td>\n      <td>82.75</td>\n      <td>261.05</td>\n      <td>954</td>\n      <td>692.95</td>\n    </tr>\n    <tr>\n      <th>22</th>\n      <td>22:00:00</td>\n      <td>0</td>\n      <td>153.5</td>\n      <td>0</td>\n      <td>94.85</td>\n      <td>94.85</td>\n      <td>248.35</td>\n      <td>864</td>\n      <td>615.65</td>\n    </tr>\n    <tr>\n      <th>23</th>\n      <td>23:00:00</td>\n      <td>0</td>\n      <td>0</td>\n      <td>0</td>\n      <td>116.15</td>\n      <td>116.15</td>\n      <td>116.15</td>\n      <td>890</td>\n      <td>773.85</td>\n    </tr>\n  </tbody>\n</table>\n</div>"
     },
     "execution_count": 3,
     "metadata": {},
     "output_type": "execute_result"
    }
   ],
   "source": [
    "data2 = pd.read_excel('data2.xlsx')#读入数据，附件2\n",
    "data2 = data2.iloc[30:,]\n",
    "data2 = data2.reset_index(drop=True)\n",
    "data2"
   ]
  },
  {
   "cell_type": "code",
   "execution_count": 4,
   "id": "52edb909ec667c3f",
   "metadata": {
    "ExecuteTime": {
     "end_time": "2024-05-25T02:33:32.539125400Z",
     "start_time": "2024-05-25T02:33:32.444097300Z"
    }
   },
   "outputs": [],
   "source": [
    "LightProduceByA = data2['Unnamed: 1'].values.tolist()\n",
    "WinProduceByB = data2['Unnamed: 2'].values.tolist()\n",
    "LightProduceByC = data2['Unnamed: 3'].values.tolist()\n",
    "WinProduceByC = data2['Unnamed: 4'].values.tolist()\n",
    "LoadA = data1['园区A负荷(kW)'].values.tolist()\n",
    "LoadB = data1['园区B负荷(kW)'].values.tolist()\n",
    "LoadC = data1['园区C负荷(kW)'].values.tolist()"
   ]
  },
  {
   "cell_type": "markdown",
   "id": "fbe34bea",
   "metadata": {},
   "source": [
    "#第一问第一小问："
   ]
  },
  {
   "cell_type": "code",
   "execution_count": 39,
   "id": "9fe899bf",
   "metadata": {
    "ExecuteTime": {
     "end_time": "2024-05-25T03:27:26.132185900Z",
     "start_time": "2024-05-25T03:27:26.128105800Z"
    }
   },
   "outputs": [
    {
     "data": {
      "text/plain": "(0.8182957853436275, 0.7159403372243839, 0.7037136059670783)"
     },
     "execution_count": 39,
     "metadata": {},
     "output_type": "execute_result"
    }
   ],
   "source": [
    "EA_buy = np.maximum((np.array(LoadA) - np.array(LightProduceByA)), 0) #shape(24,)\n",
    "EA_curt = np.maximum((np.array(LightProduceByA) - np.array(LoadA)), 0)\n",
    "A_LightProduce = np.array(LightProduceByA)\n",
    "\n",
    "EB_buy = np.maximum((np.array(LoadB) - WinProduceByB), 0)\n",
    "EB_curt = np.maximum((np.array(WinProduceByB) - np.array(LoadB)), 0)\n",
    "B_WindProduce = np.array(WinProduceByB)\n",
    "\n",
    "EC_buy = np.maximum((np.array(LoadC) - np.array(LightProduceByC) - np.array(WinProduceByC)), 0)\n",
    "EC_curt = np.maximum((np.array(LightProduceByC) + np.array(WinProduceByC) - np.array(LoadC)), 0)\n",
    "C_LightProduce = np.array(LightProduceByC)\n",
    "C_WindProduce = np.array(WinProduceByC)\n",
    "\n",
    "def Compute_Single_Cost(E_buy, E_curt, LightProduce, LightPrice, WindProduce, WindPrice):\n",
    "    #array : E_buy, E_curt\n",
    "    #const : LPro, LPri, WPro, WPri\n",
    "    return E_buy * BuyInPrice + WindProduce * WindPrice + LightProduce * LightPrice\n",
    "\n",
    "ACost = Compute_Single_Cost(EA_buy, EA_curt, A_LightProduce, LightProducePrice, 0, WindProducePrice)\n",
    "BCost = Compute_Single_Cost(EB_buy, EB_curt, 0, A_LightProduce, B_WindProduce, WindProducePrice)\n",
    "CCost = Compute_Single_Cost(EC_buy, EC_curt, C_LightProduce, LightProducePrice, C_WindProduce, WindProducePrice)\n",
    "\n",
    "APer = ACost.sum() / np.sum(LoadA)\n",
    "BPer = BCost.sum() / np.sum(LoadB)\n",
    "CPer = CCost.sum() / np.sum(LoadC)\n",
    "\n",
    "APer, BPer, CPer"
   ]
  },
  {
   "cell_type": "code",
   "execution_count": null,
   "outputs": [],
   "source": [],
   "metadata": {
    "collapsed": false
   },
   "id": "ba2ea78f80d077bb"
  },
  {
   "cell_type": "markdown",
   "id": "76f9e93e3b694be2",
   "metadata": {},
   "source": [
    "#第一问第二小问："
   ]
  },
  {
   "cell_type": "code",
   "execution_count": null,
   "id": "a2f83da9a121599b",
   "metadata": {},
   "outputs": [],
   "source": [
    "LightProduceByA"
   ]
  },
  {
   "cell_type": "code",
   "execution_count": 60,
   "id": "35d07c308622fc8b",
   "metadata": {
    "ExecuteTime": {
     "end_time": "2024-05-25T03:51:54.147936200Z",
     "start_time": "2024-05-25T03:51:54.139464400Z"
    }
   },
   "outputs": [],
   "source": [
    "def calculate_costs(Produce,Loads,Price,TypedPrice,NoBattery):\n",
    "    # 初始电池电量设置为电池最大容量的10%\n",
    "    # 最大电池电量设置为电池最大容量的90%\n",
    "    min_battery_Capacity = 0.1 * batteryCapacity\n",
    "    max_battery_Capacity = 0.9 * batteryCapacity\n",
    "    CurrentBatteryCapacity = 0 #初始化电池容量\n",
    "    TotalData = pd.DataFrame(columns=[\n",
    "        '时间', \n",
    "        '电池电量', \n",
    "        '负荷-发电', \n",
    "        '买电花费',\n",
    "        '产电成本',\n",
    "        '总花费',\n",
    "        '买电花费(无电池)',\n",
    "        '产电成本(无电池)',\n",
    "        '总花费(无电池)'\n",
    "        ])\n",
    "    FirstFlag = True\n",
    "    iteration = 0\n",
    "    totalcost = 0\n",
    "    for PowerProduce,Load in zip(Produce,Loads):#PowerProduce为发电量，Load为负荷量\n",
    "        Demand = Load-PowerProduce #需电量\n",
    "        BuyInElcCost = 0 #初始化购电费用\n",
    "        ProduceElcCost = 0 #初始化发电费用\n",
    "        # 判断负荷量是否大于发电量\n",
    "        if Demand>0:#需要放电\n",
    "            if CurrentBatteryCapacity>min_battery_Capacity:#判断电池是否可以放电\n",
    "                if(Demand-(CurrentBatteryCapacity-min_battery_Capacity)*0.95>0):#判断是否需要额外买电\n",
    "                    BuyInElcCost = (Demand-(CurrentBatteryCapacity-min_battery_Capacity)*0.95)/Price\n",
    "                    ProduceElcCost = PowerProduce*TypedPrice\n",
    "                    CurrentBatteryCapacity = min_battery_Capacity\n",
    "                else:\n",
    "                    ProduceElcCost = PowerProduce*TypedPrice\n",
    "                    CurrentBatteryCapacity = CurrentBatteryCapacity - Demand/0.95\n",
    "            else:\n",
    "                BuyInElcCost = Demand/Price\n",
    "                ProduceElcCost = PowerProduce*TypedPrice\n",
    "        else:#可以充电\n",
    "            if (CurrentBatteryCapacity<max_battery_Capacity or FirstFlag):#判断电池是否可以充电\n",
    "                FirstFlag = False\n",
    "                if(abs(Demand)-(max_battery_Capacity-CurrentBatteryCapacity)/0.95>0):#判断是否浪费\n",
    "                    ProduceElcCost = PowerProduce*TypedPrice\n",
    "                    CurrentBatteryCapacity = max_battery_Capacity\n",
    "                else:\n",
    "                    ProduceElcCost = PowerProduce*TypedPrice\n",
    "                    CurrentBatteryCapacity = CurrentBatteryCapacity + abs(Demand)*0.95\n",
    "            else:\n",
    "                ProduceElcCost = PowerProduce*TypedPrice\n",
    "        totalcost = BuyInElcCost+ProduceElcCost\n",
    "         # 记录每次循环的数据\n",
    "        new_row = pd.DataFrame({\n",
    "        '时间':[iteration],\n",
    "        '电池电量':[CurrentBatteryCapacity],\n",
    "        '负荷-发电':[Demand],\n",
    "        '买电花费':[BuyInElcCost],\n",
    "        '产电成本':[ProduceElcCost],\n",
    "        '总花费':[totalcost],\n",
    "        '买电花费(无电池)':[NoBattery[0][iteration]],\n",
    "        '产电成本(无电池)':[NoBattery[1][iteration]],\n",
    "        '总花费(无电池)':[NoBattery[2][iteration]]\n",
    "        })\n",
    "        TotalData = pd.concat([TotalData,new_row], ignore_index=False)\n",
    "        iteration +=1\n",
    "    return TotalData"
   ]
  },
  {
   "cell_type": "code",
   "execution_count": 70,
   "id": "edec1f1fb380c835",
   "metadata": {
    "ExecuteTime": {
     "end_time": "2024-05-25T03:57:06.997696900Z",
     "start_time": "2024-05-25T03:57:06.991556800Z"
    }
   },
   "outputs": [],
   "source": [
    "def calculate_costs_for_multy(LightProduce,WindProduce,Loads,Price,LightTypedPrice,WindTypedPrice,NoBattery):\n",
    "    # 初始电池电量设置为电池最大容量的10%\n",
    "    # 最大电池电量设置为电池最大容量的90%\n",
    "    min_battery_Capacity = 0.1 * batteryCapacity\n",
    "    max_battery_Capacity = 0.9 * batteryCapacity\n",
    "    CurrentBatteryCapacity = 0 #初始化电池容量\n",
    "    TotalData = pd.DataFrame(columns=[\n",
    "        '时间', \n",
    "        '电池电量', \n",
    "        '负荷-发电', \n",
    "        '买电花费',\n",
    "        '产电成本',\n",
    "        '总花费',\n",
    "        '买电花费(无电池)',\n",
    "        '产电成本(无电池)',\n",
    "        '总花费(无电池)'\n",
    "        ])\n",
    "    FirstFlag = True\n",
    "    iteration = 0\n",
    "    totalcost = 0\n",
    "    for LightPowerProduce,WindPowerProduce,Load in zip(LightProduce,WindProduce,Loads):#PowerProduce为发电量，Load为负荷量\n",
    "        PowerProduce = (LightPowerProduce+WindPowerProduce)\n",
    "        Demand = Load-(LightPowerProduce+WindPowerProduce) #需电量\n",
    "        BuyInElcCost = 0 #初始化购电费用\n",
    "        ProduceElcCost = 0 #初始化发电费用\n",
    "        # 判断负荷量是否大于发电量\n",
    "        if Demand>0:#需要放电\n",
    "            if CurrentBatteryCapacity>min_battery_Capacity:#判断电池是否可以放电\n",
    "                if(Demand-(CurrentBatteryCapacity-min_battery_Capacity)*0.95>0):#判断是否需要额外买电\n",
    "                    BuyInElcCost = (Demand-(CurrentBatteryCapacity-min_battery_Capacity)*0.95)/Price\n",
    "                    ProduceElcCost = (LightPowerProduce*LightTypedPrice)+(WindPowerProduce*WindTypedPrice)\n",
    "                    CurrentBatteryCapacity = min_battery_Capacity\n",
    "                else:\n",
    "                    ProduceElcCost = (LightPowerProduce*LightTypedPrice)+(WindPowerProduce*WindTypedPrice)\n",
    "                    CurrentBatteryCapacity = CurrentBatteryCapacity - Demand/0.95\n",
    "            else:\n",
    "                BuyInElcCost = Demand/Price\n",
    "                ProduceElcCost = (LightPowerProduce*LightTypedPrice)+(WindPowerProduce*WindTypedPrice)\n",
    "        else:#可以充电\n",
    "            if (CurrentBatteryCapacity<max_battery_Capacity or FirstFlag):#判断电池是否可以充电\n",
    "                FirstFlag = False\n",
    "                if(abs(Demand)-(max_battery_Capacity-CurrentBatteryCapacity)/0.95>0):#判断是否浪费\n",
    "                    ProduceElcCost = (LightPowerProduce*LightTypedPrice)+(WindPowerProduce*WindTypedPrice)\n",
    "                    CurrentBatteryCapacity = max_battery_Capacity\n",
    "                else:\n",
    "                    ProduceElcCost = (LightPowerProduce*LightTypedPrice)+(WindPowerProduce*WindTypedPrice)\n",
    "                    CurrentBatteryCapacity = CurrentBatteryCapacity + abs(Demand)*0.95\n",
    "            else:\n",
    "                ProduceElcCost = (LightPowerProduce*LightTypedPrice)+(WindPowerProduce*WindTypedPrice)\n",
    "        totalcost = BuyInElcCost+ProduceElcCost\n",
    "         # 记录每次循环的数据\n",
    "        new_row = pd.DataFrame({\n",
    "        '时间':[iteration],\n",
    "        '电池电量':[CurrentBatteryCapacity],\n",
    "        '负荷-发电':[Demand],\n",
    "        '买电花费':[BuyInElcCost],\n",
    "        '产电成本':[ProduceElcCost],\n",
    "        '总花费':[totalcost],\n",
    "        '买电花费(无电池)':[NoBattery[0][iteration]],\n",
    "        '产电成本(无电池)':[NoBattery[1][iteration]],\n",
    "        '总花费(无电池)':[NoBattery[2][iteration]]\n",
    "        })\n",
    "        TotalData = pd.concat([TotalData,new_row], ignore_index=False)\n",
    "        \n",
    "        iteration +=1\n",
    "            \n",
    "    return TotalData"
   ]
  },
  {
   "cell_type": "code",
   "execution_count": 53,
   "outputs": [
    {
     "data": {
      "text/plain": "array([  0.   ,   0.   ,   0.   ,   0.   ,   0.   ,   0.   ,   0.   ,\n         4.35 , 226.95 , 451.5  , 578.325, 641.625, 639.825, 588.15 ,\n       482.775, 318.15 ,  46.425,   0.   ,   0.   ,   0.   ,   0.   ,\n         0.   ,   0.   ,   0.   ])"
     },
     "execution_count": 53,
     "metadata": {},
     "output_type": "execute_result"
    }
   ],
   "source": [
    "A_LightProduce"
   ],
   "metadata": {
    "collapsed": false,
    "ExecuteTime": {
     "end_time": "2024-05-25T03:39:23.824576900Z",
     "start_time": "2024-05-25T03:39:23.820210200Z"
    }
   },
   "id": "b76a3774bcbebddf"
  },
  {
   "cell_type": "code",
   "execution_count": 63,
   "id": "6ca2b522acaa0fed",
   "metadata": {
    "ExecuteTime": {
     "end_time": "2024-05-25T03:56:27.405961600Z",
     "start_time": "2024-05-25T03:56:27.362391Z"
    }
   },
   "outputs": [],
   "source": [
    "calculate_costs(LightProduceByA,LoadA,BuyInPrice,LightProducePrice,[EA_buy*BuyInPrice,\n",
    "                                                                    A_LightProduce*LightProducePrice,\n",
    "                                                                    ACost]).to_excel('第一问第二小问园区A.xlsx')"
   ]
  },
  {
   "cell_type": "code",
   "execution_count": 65,
   "id": "a71aa8d60b6ace29",
   "metadata": {
    "ExecuteTime": {
     "end_time": "2024-05-25T03:56:36.727772500Z",
     "start_time": "2024-05-25T03:56:36.684612800Z"
    }
   },
   "outputs": [],
   "source": [
    "calculate_costs(WinProduceByB,LoadB,BuyInPrice,WindProducePrice,[EB_buy*BuyInPrice,\n",
    "                                                                 B_WindProduce*WindProducePrice,\n",
    "                                                                 BCost]).to_excel('第一问第二小问园区B.xlsx')"
   ]
  },
  {
   "cell_type": "code",
   "execution_count": 71,
   "id": "ea98b459c8ed2e82",
   "metadata": {
    "ExecuteTime": {
     "end_time": "2024-05-25T03:57:11.851554Z",
     "start_time": "2024-05-25T03:57:11.806075700Z"
    }
   },
   "outputs": [],
   "source": [
    "calculate_costs_for_multy(LightProduceByC,WinProduceByC,LoadC,BuyInPrice,LightProducePrice,WindProducePrice,[\n",
    "    EC_buy*BuyInPrice,\n",
    "    C_LightProduce*LightProducePrice+C_WindProduce*WindProducePrice,\n",
    "    CCost]).to_excel('第一问第二小问园区C.xlsx')"
   ]
  },
  {
   "cell_type": "markdown",
   "id": "92e1d730",
   "metadata": {},
   "source": [
    "#第一问第三小问"
   ]
  },
  {
   "cell_type": "code",
   "execution_count": 12,
   "id": "9aa66703",
   "metadata": {
    "ExecuteTime": {
     "end_time": "2024-05-25T02:47:23.775542200Z",
     "start_time": "2024-05-25T02:33:32.610002300Z"
    }
   },
   "outputs": [
    {
     "ename": "KeyboardInterrupt",
     "evalue": "",
     "output_type": "error",
     "traceback": [
      "\u001B[1;31m---------------------------------------------------------------------------\u001B[0m",
      "\u001B[1;31mKeyboardInterrupt\u001B[0m                         Traceback (most recent call last)",
      "Cell \u001B[1;32mIn[12], line 18\u001B[0m\n\u001B[0;32m     14\u001B[0m \u001B[38;5;28;01mfor\u001B[39;00m batteryPower \u001B[38;5;129;01min\u001B[39;00m PowerRange:\n\u001B[0;32m     15\u001B[0m     y\u001B[38;5;241m+\u001B[39m\u001B[38;5;241m=\u001B[39m\u001B[38;5;241m1\u001B[39m\n\u001B[0;32m     16\u001B[0m     TotalCost_Q_1_3[x,y] \u001B[38;5;241m=\u001B[39m (calculate_costs(LightProduceByA,LoadA,BuyInPrice,LightProducePrice) \u001B[38;5;241m+\u001B[39m \n\u001B[0;32m     17\u001B[0m                            calculate_costs(WinProduceByB,LoadB,BuyInPrice,WindProducePrice) \u001B[38;5;241m+\u001B[39m \n\u001B[1;32m---> 18\u001B[0m                           \u001B[43mcalculate_costs_for_multy\u001B[49m\u001B[43m(\u001B[49m\u001B[43mLightProduceByC\u001B[49m\u001B[43m,\u001B[49m\u001B[43mWinProduceByC\u001B[49m\u001B[43m,\u001B[49m\u001B[43mLoadC\u001B[49m\u001B[43m,\u001B[49m\u001B[43mBuyInPrice\u001B[49m\u001B[43m,\u001B[49m\u001B[43mLightProducePrice\u001B[49m\u001B[43m,\u001B[49m\u001B[43mWindProducePrice\u001B[49m\u001B[43m)\u001B[49m)\n",
      "Cell \u001B[1;32mIn[8], line 49\u001B[0m, in \u001B[0;36mcalculate_costs_for_multy\u001B[1;34m(LightProduce, WindProduce, Loads, Price, LightTypedPrice, WindTypedPrice)\u001B[0m\n\u001B[0;32m     47\u001B[0m totalcost \u001B[38;5;241m+\u001B[39m\u001B[38;5;241m=\u001B[39m BuyInElcCost\u001B[38;5;241m+\u001B[39mProduceElcCost\n\u001B[0;32m     48\u001B[0m  \u001B[38;5;66;03m# 记录每次循环的数据\u001B[39;00m\n\u001B[1;32m---> 49\u001B[0m new_row \u001B[38;5;241m=\u001B[39m \u001B[43mpd\u001B[49m\u001B[38;5;241;43m.\u001B[39;49m\u001B[43mDataFrame\u001B[49m\u001B[43m(\u001B[49m\u001B[43m{\u001B[49m\n\u001B[0;32m     50\u001B[0m \u001B[43m\u001B[49m\u001B[38;5;124;43m'\u001B[39;49m\u001B[38;5;124;43m时间\u001B[39;49m\u001B[38;5;124;43m'\u001B[39;49m\u001B[43m:\u001B[49m\u001B[43m[\u001B[49m\u001B[43miteration\u001B[49m\u001B[43m]\u001B[49m\u001B[43m,\u001B[49m\n\u001B[0;32m     51\u001B[0m \u001B[43m\u001B[49m\u001B[38;5;124;43m'\u001B[39;49m\u001B[38;5;124;43m电池电量\u001B[39;49m\u001B[38;5;124;43m'\u001B[39;49m\u001B[43m:\u001B[49m\u001B[43m[\u001B[49m\u001B[43mCurrentBatteryCapacity\u001B[49m\u001B[43m]\u001B[49m\u001B[43m,\u001B[49m\n\u001B[0;32m     52\u001B[0m \u001B[43m\u001B[49m\u001B[38;5;124;43m'\u001B[39;49m\u001B[38;5;124;43m负荷-发电\u001B[39;49m\u001B[38;5;124;43m'\u001B[39;49m\u001B[43m:\u001B[49m\u001B[43m[\u001B[49m\u001B[43mDemand\u001B[49m\u001B[43m]\u001B[49m\u001B[43m,\u001B[49m\n\u001B[0;32m     53\u001B[0m \u001B[43m\u001B[49m\u001B[38;5;124;43m'\u001B[39;49m\u001B[38;5;124;43m买电花费\u001B[39;49m\u001B[38;5;124;43m'\u001B[39;49m\u001B[43m:\u001B[49m\u001B[43m[\u001B[49m\u001B[43mBuyInElcCost\u001B[49m\u001B[43m]\u001B[49m\u001B[43m,\u001B[49m\n\u001B[0;32m     54\u001B[0m \u001B[43m\u001B[49m\u001B[38;5;124;43m'\u001B[39;49m\u001B[38;5;124;43m产电成本\u001B[39;49m\u001B[38;5;124;43m'\u001B[39;49m\u001B[43m:\u001B[49m\u001B[43m[\u001B[49m\u001B[43mProduceElcCost\u001B[49m\u001B[43m]\u001B[49m\u001B[43m,\u001B[49m\n\u001B[0;32m     55\u001B[0m \u001B[43m\u001B[49m\u001B[38;5;124;43m'\u001B[39;49m\u001B[38;5;124;43m总花费\u001B[39;49m\u001B[38;5;124;43m'\u001B[39;49m\u001B[43m:\u001B[49m\u001B[43m[\u001B[49m\u001B[43mtotalcost\u001B[49m\u001B[43m]\u001B[49m\n\u001B[0;32m     56\u001B[0m \u001B[43m\u001B[49m\u001B[43m}\u001B[49m\u001B[43m)\u001B[49m\n\u001B[0;32m     57\u001B[0m TotalData \u001B[38;5;241m=\u001B[39m pd\u001B[38;5;241m.\u001B[39mconcat([TotalData,new_row], ignore_index\u001B[38;5;241m=\u001B[39m\u001B[38;5;28;01mFalse\u001B[39;00m)\n\u001B[0;32m     58\u001B[0m iteration \u001B[38;5;241m+\u001B[39m\u001B[38;5;241m=\u001B[39m\u001B[38;5;241m1\u001B[39m\n",
      "File \u001B[1;32m~\\anaconda3\\envs\\pyinstaller_env\\lib\\site-packages\\pandas\\core\\frame.py:709\u001B[0m, in \u001B[0;36mDataFrame.__init__\u001B[1;34m(self, data, index, columns, dtype, copy)\u001B[0m\n\u001B[0;32m    703\u001B[0m     mgr \u001B[38;5;241m=\u001B[39m \u001B[38;5;28mself\u001B[39m\u001B[38;5;241m.\u001B[39m_init_mgr(\n\u001B[0;32m    704\u001B[0m         data, axes\u001B[38;5;241m=\u001B[39m{\u001B[38;5;124m\"\u001B[39m\u001B[38;5;124mindex\u001B[39m\u001B[38;5;124m\"\u001B[39m: index, \u001B[38;5;124m\"\u001B[39m\u001B[38;5;124mcolumns\u001B[39m\u001B[38;5;124m\"\u001B[39m: columns}, dtype\u001B[38;5;241m=\u001B[39mdtype, copy\u001B[38;5;241m=\u001B[39mcopy\n\u001B[0;32m    705\u001B[0m     )\n\u001B[0;32m    707\u001B[0m \u001B[38;5;28;01melif\u001B[39;00m \u001B[38;5;28misinstance\u001B[39m(data, \u001B[38;5;28mdict\u001B[39m):\n\u001B[0;32m    708\u001B[0m     \u001B[38;5;66;03m# GH#38939 de facto copy defaults to False only in non-dict cases\u001B[39;00m\n\u001B[1;32m--> 709\u001B[0m     mgr \u001B[38;5;241m=\u001B[39m \u001B[43mdict_to_mgr\u001B[49m\u001B[43m(\u001B[49m\u001B[43mdata\u001B[49m\u001B[43m,\u001B[49m\u001B[43m \u001B[49m\u001B[43mindex\u001B[49m\u001B[43m,\u001B[49m\u001B[43m \u001B[49m\u001B[43mcolumns\u001B[49m\u001B[43m,\u001B[49m\u001B[43m \u001B[49m\u001B[43mdtype\u001B[49m\u001B[38;5;241;43m=\u001B[39;49m\u001B[43mdtype\u001B[49m\u001B[43m,\u001B[49m\u001B[43m \u001B[49m\u001B[43mcopy\u001B[49m\u001B[38;5;241;43m=\u001B[39;49m\u001B[43mcopy\u001B[49m\u001B[43m,\u001B[49m\u001B[43m \u001B[49m\u001B[43mtyp\u001B[49m\u001B[38;5;241;43m=\u001B[39;49m\u001B[43mmanager\u001B[49m\u001B[43m)\u001B[49m\n\u001B[0;32m    710\u001B[0m \u001B[38;5;28;01melif\u001B[39;00m \u001B[38;5;28misinstance\u001B[39m(data, ma\u001B[38;5;241m.\u001B[39mMaskedArray):\n\u001B[0;32m    711\u001B[0m     \u001B[38;5;28;01mfrom\u001B[39;00m \u001B[38;5;21;01mnumpy\u001B[39;00m\u001B[38;5;21;01m.\u001B[39;00m\u001B[38;5;21;01mma\u001B[39;00m \u001B[38;5;28;01mimport\u001B[39;00m mrecords\n",
      "File \u001B[1;32m~\\anaconda3\\envs\\pyinstaller_env\\lib\\site-packages\\pandas\\core\\internals\\construction.py:481\u001B[0m, in \u001B[0;36mdict_to_mgr\u001B[1;34m(data, index, columns, dtype, typ, copy)\u001B[0m\n\u001B[0;32m    477\u001B[0m     \u001B[38;5;28;01melse\u001B[39;00m:\n\u001B[0;32m    478\u001B[0m         \u001B[38;5;66;03m# dtype check to exclude e.g. range objects, scalars\u001B[39;00m\n\u001B[0;32m    479\u001B[0m         arrays \u001B[38;5;241m=\u001B[39m [x\u001B[38;5;241m.\u001B[39mcopy() \u001B[38;5;28;01mif\u001B[39;00m \u001B[38;5;28mhasattr\u001B[39m(x, \u001B[38;5;124m\"\u001B[39m\u001B[38;5;124mdtype\u001B[39m\u001B[38;5;124m\"\u001B[39m) \u001B[38;5;28;01melse\u001B[39;00m x \u001B[38;5;28;01mfor\u001B[39;00m x \u001B[38;5;129;01min\u001B[39;00m arrays]\n\u001B[1;32m--> 481\u001B[0m \u001B[38;5;28;01mreturn\u001B[39;00m \u001B[43marrays_to_mgr\u001B[49m\u001B[43m(\u001B[49m\u001B[43marrays\u001B[49m\u001B[43m,\u001B[49m\u001B[43m \u001B[49m\u001B[43mcolumns\u001B[49m\u001B[43m,\u001B[49m\u001B[43m \u001B[49m\u001B[43mindex\u001B[49m\u001B[43m,\u001B[49m\u001B[43m \u001B[49m\u001B[43mdtype\u001B[49m\u001B[38;5;241;43m=\u001B[39;49m\u001B[43mdtype\u001B[49m\u001B[43m,\u001B[49m\u001B[43m \u001B[49m\u001B[43mtyp\u001B[49m\u001B[38;5;241;43m=\u001B[39;49m\u001B[43mtyp\u001B[49m\u001B[43m,\u001B[49m\u001B[43m \u001B[49m\u001B[43mconsolidate\u001B[49m\u001B[38;5;241;43m=\u001B[39;49m\u001B[43mcopy\u001B[49m\u001B[43m)\u001B[49m\n",
      "File \u001B[1;32m~\\anaconda3\\envs\\pyinstaller_env\\lib\\site-packages\\pandas\\core\\internals\\construction.py:153\u001B[0m, in \u001B[0;36marrays_to_mgr\u001B[1;34m(arrays, columns, index, dtype, verify_integrity, typ, consolidate)\u001B[0m\n\u001B[0;32m    150\u001B[0m axes \u001B[38;5;241m=\u001B[39m [columns, index]\n\u001B[0;32m    152\u001B[0m \u001B[38;5;28;01mif\u001B[39;00m typ \u001B[38;5;241m==\u001B[39m \u001B[38;5;124m\"\u001B[39m\u001B[38;5;124mblock\u001B[39m\u001B[38;5;124m\"\u001B[39m:\n\u001B[1;32m--> 153\u001B[0m     \u001B[38;5;28;01mreturn\u001B[39;00m \u001B[43mcreate_block_manager_from_column_arrays\u001B[49m\u001B[43m(\u001B[49m\n\u001B[0;32m    154\u001B[0m \u001B[43m        \u001B[49m\u001B[43marrays\u001B[49m\u001B[43m,\u001B[49m\u001B[43m \u001B[49m\u001B[43maxes\u001B[49m\u001B[43m,\u001B[49m\u001B[43m \u001B[49m\u001B[43mconsolidate\u001B[49m\u001B[38;5;241;43m=\u001B[39;49m\u001B[43mconsolidate\u001B[49m\u001B[43m,\u001B[49m\u001B[43m \u001B[49m\u001B[43mrefs\u001B[49m\u001B[38;5;241;43m=\u001B[39;49m\u001B[43mrefs\u001B[49m\n\u001B[0;32m    155\u001B[0m \u001B[43m    \u001B[49m\u001B[43m)\u001B[49m\n\u001B[0;32m    156\u001B[0m \u001B[38;5;28;01melif\u001B[39;00m typ \u001B[38;5;241m==\u001B[39m \u001B[38;5;124m\"\u001B[39m\u001B[38;5;124marray\u001B[39m\u001B[38;5;124m\"\u001B[39m:\n\u001B[0;32m    157\u001B[0m     \u001B[38;5;28;01mreturn\u001B[39;00m ArrayManager(arrays, [index, columns])\n",
      "File \u001B[1;32m~\\anaconda3\\envs\\pyinstaller_env\\lib\\site-packages\\pandas\\core\\internals\\managers.py:2142\u001B[0m, in \u001B[0;36mcreate_block_manager_from_column_arrays\u001B[1;34m(arrays, axes, consolidate, refs)\u001B[0m\n\u001B[0;32m   2140\u001B[0m     raise_construction_error(\u001B[38;5;28mlen\u001B[39m(arrays), arrays[\u001B[38;5;241m0\u001B[39m]\u001B[38;5;241m.\u001B[39mshape, axes, e)\n\u001B[0;32m   2141\u001B[0m \u001B[38;5;28;01mif\u001B[39;00m consolidate:\n\u001B[1;32m-> 2142\u001B[0m     \u001B[43mmgr\u001B[49m\u001B[38;5;241;43m.\u001B[39;49m\u001B[43m_consolidate_inplace\u001B[49m\u001B[43m(\u001B[49m\u001B[43m)\u001B[49m\n\u001B[0;32m   2143\u001B[0m \u001B[38;5;28;01mreturn\u001B[39;00m mgr\n",
      "File \u001B[1;32m~\\anaconda3\\envs\\pyinstaller_env\\lib\\site-packages\\pandas\\core\\internals\\managers.py:1829\u001B[0m, in \u001B[0;36mBlockManager._consolidate_inplace\u001B[1;34m(self)\u001B[0m\n\u001B[0;32m   1823\u001B[0m \u001B[38;5;28;01mdef\u001B[39;00m \u001B[38;5;21m_consolidate_inplace\u001B[39m(\u001B[38;5;28mself\u001B[39m) \u001B[38;5;241m-\u001B[39m\u001B[38;5;241m>\u001B[39m \u001B[38;5;28;01mNone\u001B[39;00m:\n\u001B[0;32m   1824\u001B[0m     \u001B[38;5;66;03m# In general, _consolidate_inplace should only be called via\u001B[39;00m\n\u001B[0;32m   1825\u001B[0m     \u001B[38;5;66;03m#  DataFrame._consolidate_inplace, otherwise we will fail to invalidate\u001B[39;00m\n\u001B[0;32m   1826\u001B[0m     \u001B[38;5;66;03m#  the DataFrame's _item_cache. The exception is for newly-created\u001B[39;00m\n\u001B[0;32m   1827\u001B[0m     \u001B[38;5;66;03m#  BlockManager objects not yet attached to a DataFrame.\u001B[39;00m\n\u001B[0;32m   1828\u001B[0m     \u001B[38;5;28;01mif\u001B[39;00m \u001B[38;5;129;01mnot\u001B[39;00m \u001B[38;5;28mself\u001B[39m\u001B[38;5;241m.\u001B[39mis_consolidated():\n\u001B[1;32m-> 1829\u001B[0m         \u001B[38;5;28mself\u001B[39m\u001B[38;5;241m.\u001B[39mblocks \u001B[38;5;241m=\u001B[39m \u001B[43m_consolidate\u001B[49m\u001B[43m(\u001B[49m\u001B[38;5;28;43mself\u001B[39;49m\u001B[38;5;241;43m.\u001B[39;49m\u001B[43mblocks\u001B[49m\u001B[43m)\u001B[49m\n\u001B[0;32m   1830\u001B[0m         \u001B[38;5;28mself\u001B[39m\u001B[38;5;241m.\u001B[39m_is_consolidated \u001B[38;5;241m=\u001B[39m \u001B[38;5;28;01mTrue\u001B[39;00m\n\u001B[0;32m   1831\u001B[0m         \u001B[38;5;28mself\u001B[39m\u001B[38;5;241m.\u001B[39m_known_consolidated \u001B[38;5;241m=\u001B[39m \u001B[38;5;28;01mTrue\u001B[39;00m\n",
      "File \u001B[1;32m~\\anaconda3\\envs\\pyinstaller_env\\lib\\site-packages\\pandas\\core\\internals\\managers.py:2272\u001B[0m, in \u001B[0;36m_consolidate\u001B[1;34m(blocks)\u001B[0m\n\u001B[0;32m   2270\u001B[0m new_blocks: \u001B[38;5;28mlist\u001B[39m[Block] \u001B[38;5;241m=\u001B[39m []\n\u001B[0;32m   2271\u001B[0m \u001B[38;5;28;01mfor\u001B[39;00m (_can_consolidate, dtype), group_blocks \u001B[38;5;129;01min\u001B[39;00m grouper:\n\u001B[1;32m-> 2272\u001B[0m     merged_blocks, _ \u001B[38;5;241m=\u001B[39m \u001B[43m_merge_blocks\u001B[49m\u001B[43m(\u001B[49m\n\u001B[0;32m   2273\u001B[0m \u001B[43m        \u001B[49m\u001B[38;5;28;43mlist\u001B[39;49m\u001B[43m(\u001B[49m\u001B[43mgroup_blocks\u001B[49m\u001B[43m)\u001B[49m\u001B[43m,\u001B[49m\u001B[43m \u001B[49m\u001B[43mdtype\u001B[49m\u001B[38;5;241;43m=\u001B[39;49m\u001B[43mdtype\u001B[49m\u001B[43m,\u001B[49m\u001B[43m \u001B[49m\u001B[43mcan_consolidate\u001B[49m\u001B[38;5;241;43m=\u001B[39;49m\u001B[43m_can_consolidate\u001B[49m\n\u001B[0;32m   2274\u001B[0m \u001B[43m    \u001B[49m\u001B[43m)\u001B[49m\n\u001B[0;32m   2275\u001B[0m     new_blocks \u001B[38;5;241m=\u001B[39m extend_blocks(merged_blocks, new_blocks)\n\u001B[0;32m   2276\u001B[0m \u001B[38;5;28;01mreturn\u001B[39;00m \u001B[38;5;28mtuple\u001B[39m(new_blocks)\n",
      "File \u001B[1;32m~\\anaconda3\\envs\\pyinstaller_env\\lib\\site-packages\\pandas\\core\\internals\\managers.py:2304\u001B[0m, in \u001B[0;36m_merge_blocks\u001B[1;34m(blocks, dtype, can_consolidate)\u001B[0m\n\u001B[0;32m   2301\u001B[0m     new_values \u001B[38;5;241m=\u001B[39m bvals2[\u001B[38;5;241m0\u001B[39m]\u001B[38;5;241m.\u001B[39m_concat_same_type(bvals2, axis\u001B[38;5;241m=\u001B[39m\u001B[38;5;241m0\u001B[39m)\n\u001B[0;32m   2303\u001B[0m argsort \u001B[38;5;241m=\u001B[39m np\u001B[38;5;241m.\u001B[39margsort(new_mgr_locs)\n\u001B[1;32m-> 2304\u001B[0m new_values \u001B[38;5;241m=\u001B[39m \u001B[43mnew_values\u001B[49m\u001B[43m[\u001B[49m\u001B[43margsort\u001B[49m\u001B[43m]\u001B[49m\n\u001B[0;32m   2305\u001B[0m new_mgr_locs \u001B[38;5;241m=\u001B[39m new_mgr_locs[argsort]\n\u001B[0;32m   2307\u001B[0m bp \u001B[38;5;241m=\u001B[39m BlockPlacement(new_mgr_locs)\n",
      "\u001B[1;31mKeyboardInterrupt\u001B[0m: "
     ]
    }
   ],
   "source": [
    "st_c = 50\n",
    "end_c = 250\n",
    "step_c = 1\n",
    "st_p = 50\n",
    "end_p = 300\n",
    "step_p = 1\n",
    "CapacityRange = np.arange(st_c,end_c,step_c)\n",
    "PowerRange = np.arange(st_p,end_p,step_p)\n",
    "TotalCost_Q_1_3 = np.zeros((len(CapacityRange), len(PowerRange)))\n",
    "x=-1\n",
    "for batteryCapacity in CapacityRange:\n",
    "    x+=1\n",
    "    y=-1\n",
    "    for batteryPower in PowerRange:\n",
    "        y+=1\n",
    "        TotalCost_Q_1_3[x,y] = (calculate_costs(LightProduceByA,LoadA,BuyInPrice,LightProducePrice) + \n",
    "                               calculate_costs(WinProduceByB,LoadB,BuyInPrice,WindProducePrice) + \n",
    "                              calculate_costs_for_multy(LightProduceByC,WinProduceByC,LoadC,BuyInPrice,LightProducePrice,WindProducePrice))\n"
   ]
  },
  {
   "cell_type": "code",
   "execution_count": null,
   "id": "163c8bfa",
   "metadata": {
    "ExecuteTime": {
     "start_time": "2024-05-25T02:47:23.777517200Z"
    }
   },
   "outputs": [],
   "source": [
    "def Plot_3D(X, Y, Z):\n",
    "    X, Y = np.meshgrid(X, Y)\n",
    "    Z = np.array(Z)\n",
    "    fig = plt.figure()\n",
    "    ax = fig.add_subplot(111, projection='3d')\n",
    "    surf = ax.plot_surface(X,Y,Z,cmap='viridis')\n",
    "    fig.colorbar(surf, ax=ax, shrink=0.5, aspect=5)\n",
    "    ax.set_xlabel('Capacity')\n",
    "    ax.set_ylabel('Power')\n",
    "    ax.set_zlabel('TotalCost')\n",
    "    ax.set_title('TotalCost for Different Capacity and Power')\n",
    "    plt.show()\n",
    "\n",
    "Plot_3D(CapacityRange, PowerRange, TotalCost_Q_1_3)"
   ]
  },
  {
   "cell_type": "code",
   "execution_count": null,
   "id": "db7a75b3",
   "metadata": {
    "ExecuteTime": {
     "end_time": "2024-05-25T02:47:23.783363900Z",
     "start_time": "2024-05-25T02:47:23.779471500Z"
    }
   },
   "outputs": [],
   "source": []
  },
  {
   "cell_type": "markdown",
   "source": [
    "#第二问 第一小题"
   ],
   "metadata": {
    "collapsed": false
   },
   "id": "3c778786807c4ec0"
  },
  {
   "cell_type": "code",
   "execution_count": 32,
   "outputs": [],
   "source": [
    "TotalLoad = []\n",
    "ToTalProduce = []\n",
    "LightProduceByTotal = []\n",
    "WindProduceByTotal = []\n",
    "for A,B,C in zip(LoadA,LoadB,LoadC):\n",
    "    TotalLoad.append(A+B+C)\n",
    "for A,B,C,D in zip(LightProduceByA,(WinProduceByB),(LightProduceByC),(WinProduceByC)):\n",
    "    ToTalProduce.append(A+B+C+D)\n",
    "for A,B in zip(LightProduceByA,LightProduceByC):\n",
    "    LightProduceByTotal.append(A+B)\n",
    "for A,B in zip(WinProduceByB,WinProduceByC):\n",
    "    WindProduceByTotal.append(A+B)"
   ],
   "metadata": {
    "collapsed": false,
    "ExecuteTime": {
     "end_time": "2024-05-25T03:02:28.023842700Z",
     "start_time": "2024-05-25T03:02:28.016462700Z"
    }
   },
   "id": "982c2c10ddc0e797"
  },
  {
   "cell_type": "code",
   "execution_count": 33,
   "outputs": [
    {
     "data": {
      "text/plain": "array([0.35994014, 0.36396481, 0.36403322, 0.36491405, 0.36924873,\n       0.36781524, 0.36174028, 0.35594689, 0.36425878, 0.37317232,\n       0.37280814, 0.37953436, 0.38478005, 0.3794783 , 0.37223192,\n       0.36970347, 0.36537816, 0.36441271, 0.3675651 , 0.36691517,\n       0.35997328, 0.35903686, 0.35876534, 0.35593898])"
     },
     "execution_count": 33,
     "metadata": {},
     "output_type": "execute_result"
    }
   ],
   "source": [
    "ELeBuyTotal = np.maximum((np.array(TotalLoad) - np.array(ToTalProduce)), 0)\n",
    "EleCurtTotal = np.maximum((np.array(ToTalProduce) - np.array(TotalLoad)), 0)\n",
    "\n",
    "\n",
    "def Compute_Single_Cost(E_buy, E_curt, LightProduce, LightPrice, WindProduce, WindPrice):\n",
    "    #array : E_buy, E_curt\n",
    "    #const : LPro, LPri, WPro, WPri\n",
    "    return E_buy.sum() * BuyInPrice + WindProduce * WindPrice + LightProduce * LightPrice\n",
    "\n",
    "TotalCost = Compute_Single_Cost(ELeBuyTotal, EleCurtTotal, np.array(LightProduceByTotal), LightProducePrice, np.array(WindProduceByTotal), WindProducePrice)\n",
    "\n",
    "TotalPer = TotalCost / np.sum(TotalLoad)\n",
    "\n",
    "TotalPer"
   ],
   "metadata": {
    "collapsed": false,
    "ExecuteTime": {
     "end_time": "2024-05-25T03:02:30.580791500Z",
     "start_time": "2024-05-25T03:02:30.572947500Z"
    }
   },
   "id": "739a154833b7195d"
  }
 ],
 "metadata": {
  "kernelspec": {
   "name": "python3",
   "language": "python",
   "display_name": "Python 3 (ipykernel)"
  },
  "language_info": {
   "codemirror_mode": {
    "name": "ipython",
    "version": 3
   },
   "file_extension": ".py",
   "mimetype": "text/x-python",
   "name": "python",
   "nbconvert_exporter": "python",
   "pygments_lexer": "ipython3",
   "version": "3.8.18"
  }
 },
 "nbformat": 4,
 "nbformat_minor": 5
}
