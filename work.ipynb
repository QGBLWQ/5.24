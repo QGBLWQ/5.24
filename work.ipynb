{
 "cells": [
  {
   "cell_type": "code",
   "execution_count": 1,
   "id": "initial_id",
   "metadata": {
    "collapsed": true,
    "ExecuteTime": {
     "end_time": "2024-05-24T01:53:43.455251Z",
     "start_time": "2024-05-24T01:53:42.858821200Z"
    }
   },
   "outputs": [],
   "source": [
    "import pandas as pd"
   ]
  },
  {
   "cell_type": "code",
   "execution_count": 10,
   "outputs": [
    {
     "data": {
      "text/plain": "   说明：表中数据标幺值以相应的风/光额定装机容量为基准 Unnamed: 1 Unnamed: 2 Unnamed: 3 Unnamed: 4  \\\n0                    00:00:00          0      230.1          0       73.2   \n1                    01:00:00          0      382.8          0     108.75   \n2                    02:00:00          0      296.8          0     197.95   \n3                    03:00:00          0      444.4          0      91.55   \n4                    04:00:00          0      502.9          0      235.8   \n5                    05:00:00          0      360.9          0     310.75   \n6                    06:00:00          0      240.2          0      147.3   \n7                    07:00:00       4.35       47.3        6.3       60.7   \n8                    08:00:00     226.95      153.8      196.8       12.5   \n9                    09:00:00      451.5      106.8     378.84     151.15   \n10                   10:00:00    578.325       51.8     476.16        9.8   \n11                   11:00:00    641.625      216.9      535.5       61.2   \n12                   12:00:00    639.825      354.6     539.94     166.75   \n13                   13:00:00     588.15      219.4     493.26     132.65   \n14                   14:00:00    482.775        111     400.02         61   \n15                   15:00:00     318.15      218.6      256.5      81.65   \n16                   16:00:00     46.425      377.9      12.96     132.25   \n17                   17:00:00          0      342.1          0      170.4   \n18                   18:00:00          0      500.8          0     159.15   \n19                   19:00:00          0      464.6          0     164.95   \n20                   20:00:00          0      219.7          0      85.15   \n21                   21:00:00          0      178.3          0      82.75   \n22                   22:00:00          0      153.5          0      94.85   \n23                   23:00:00          0          0          0     116.15   \n\n   Unnamed: 5 Unnamed: 6 Unnamed: 7 Unnamed: 8  \n0        73.2      303.3        818      514.7  \n1      108.75     491.55        820     328.45  \n2      197.95     494.75        913     418.25  \n3       91.55     535.95        918     382.05  \n4       235.8      738.7        871      132.3  \n5      310.75     671.65        815     143.35  \n6       147.3      387.5        883      495.5  \n7          67     118.65        957     838.35  \n8       209.3     590.05        931     340.95  \n9      529.99    1088.29        879    -209.29  \n10     485.96   1116.085       1047    -69.085  \n11      596.7   1455.225       1100   -355.225  \n12     706.69   1701.115       1253   -448.115  \n13     625.91    1433.46       1278    -155.46  \n14     461.02   1054.795       1248    193.205  \n15     338.15      874.9       1328      453.1  \n16     145.21    569.535        963    393.465  \n17      170.4      512.5        915      402.5  \n18     159.15     659.95       1084     424.05  \n19     164.95     629.55        814     184.45  \n20      85.15     304.85        844     539.15  \n21      82.75     261.05        954     692.95  \n22      94.85     248.35        864     615.65  \n23     116.15     116.15        890     773.85  ",
      "text/html": "<div>\n<style scoped>\n    .dataframe tbody tr th:only-of-type {\n        vertical-align: middle;\n    }\n\n    .dataframe tbody tr th {\n        vertical-align: top;\n    }\n\n    .dataframe thead th {\n        text-align: right;\n    }\n</style>\n<table border=\"1\" class=\"dataframe\">\n  <thead>\n    <tr style=\"text-align: right;\">\n      <th></th>\n      <th>说明：表中数据标幺值以相应的风/光额定装机容量为基准</th>\n      <th>Unnamed: 1</th>\n      <th>Unnamed: 2</th>\n      <th>Unnamed: 3</th>\n      <th>Unnamed: 4</th>\n      <th>Unnamed: 5</th>\n      <th>Unnamed: 6</th>\n      <th>Unnamed: 7</th>\n      <th>Unnamed: 8</th>\n    </tr>\n  </thead>\n  <tbody>\n    <tr>\n      <th>0</th>\n      <td>00:00:00</td>\n      <td>0</td>\n      <td>230.1</td>\n      <td>0</td>\n      <td>73.2</td>\n      <td>73.2</td>\n      <td>303.3</td>\n      <td>818</td>\n      <td>514.7</td>\n    </tr>\n    <tr>\n      <th>1</th>\n      <td>01:00:00</td>\n      <td>0</td>\n      <td>382.8</td>\n      <td>0</td>\n      <td>108.75</td>\n      <td>108.75</td>\n      <td>491.55</td>\n      <td>820</td>\n      <td>328.45</td>\n    </tr>\n    <tr>\n      <th>2</th>\n      <td>02:00:00</td>\n      <td>0</td>\n      <td>296.8</td>\n      <td>0</td>\n      <td>197.95</td>\n      <td>197.95</td>\n      <td>494.75</td>\n      <td>913</td>\n      <td>418.25</td>\n    </tr>\n    <tr>\n      <th>3</th>\n      <td>03:00:00</td>\n      <td>0</td>\n      <td>444.4</td>\n      <td>0</td>\n      <td>91.55</td>\n      <td>91.55</td>\n      <td>535.95</td>\n      <td>918</td>\n      <td>382.05</td>\n    </tr>\n    <tr>\n      <th>4</th>\n      <td>04:00:00</td>\n      <td>0</td>\n      <td>502.9</td>\n      <td>0</td>\n      <td>235.8</td>\n      <td>235.8</td>\n      <td>738.7</td>\n      <td>871</td>\n      <td>132.3</td>\n    </tr>\n    <tr>\n      <th>5</th>\n      <td>05:00:00</td>\n      <td>0</td>\n      <td>360.9</td>\n      <td>0</td>\n      <td>310.75</td>\n      <td>310.75</td>\n      <td>671.65</td>\n      <td>815</td>\n      <td>143.35</td>\n    </tr>\n    <tr>\n      <th>6</th>\n      <td>06:00:00</td>\n      <td>0</td>\n      <td>240.2</td>\n      <td>0</td>\n      <td>147.3</td>\n      <td>147.3</td>\n      <td>387.5</td>\n      <td>883</td>\n      <td>495.5</td>\n    </tr>\n    <tr>\n      <th>7</th>\n      <td>07:00:00</td>\n      <td>4.35</td>\n      <td>47.3</td>\n      <td>6.3</td>\n      <td>60.7</td>\n      <td>67</td>\n      <td>118.65</td>\n      <td>957</td>\n      <td>838.35</td>\n    </tr>\n    <tr>\n      <th>8</th>\n      <td>08:00:00</td>\n      <td>226.95</td>\n      <td>153.8</td>\n      <td>196.8</td>\n      <td>12.5</td>\n      <td>209.3</td>\n      <td>590.05</td>\n      <td>931</td>\n      <td>340.95</td>\n    </tr>\n    <tr>\n      <th>9</th>\n      <td>09:00:00</td>\n      <td>451.5</td>\n      <td>106.8</td>\n      <td>378.84</td>\n      <td>151.15</td>\n      <td>529.99</td>\n      <td>1088.29</td>\n      <td>879</td>\n      <td>-209.29</td>\n    </tr>\n    <tr>\n      <th>10</th>\n      <td>10:00:00</td>\n      <td>578.325</td>\n      <td>51.8</td>\n      <td>476.16</td>\n      <td>9.8</td>\n      <td>485.96</td>\n      <td>1116.085</td>\n      <td>1047</td>\n      <td>-69.085</td>\n    </tr>\n    <tr>\n      <th>11</th>\n      <td>11:00:00</td>\n      <td>641.625</td>\n      <td>216.9</td>\n      <td>535.5</td>\n      <td>61.2</td>\n      <td>596.7</td>\n      <td>1455.225</td>\n      <td>1100</td>\n      <td>-355.225</td>\n    </tr>\n    <tr>\n      <th>12</th>\n      <td>12:00:00</td>\n      <td>639.825</td>\n      <td>354.6</td>\n      <td>539.94</td>\n      <td>166.75</td>\n      <td>706.69</td>\n      <td>1701.115</td>\n      <td>1253</td>\n      <td>-448.115</td>\n    </tr>\n    <tr>\n      <th>13</th>\n      <td>13:00:00</td>\n      <td>588.15</td>\n      <td>219.4</td>\n      <td>493.26</td>\n      <td>132.65</td>\n      <td>625.91</td>\n      <td>1433.46</td>\n      <td>1278</td>\n      <td>-155.46</td>\n    </tr>\n    <tr>\n      <th>14</th>\n      <td>14:00:00</td>\n      <td>482.775</td>\n      <td>111</td>\n      <td>400.02</td>\n      <td>61</td>\n      <td>461.02</td>\n      <td>1054.795</td>\n      <td>1248</td>\n      <td>193.205</td>\n    </tr>\n    <tr>\n      <th>15</th>\n      <td>15:00:00</td>\n      <td>318.15</td>\n      <td>218.6</td>\n      <td>256.5</td>\n      <td>81.65</td>\n      <td>338.15</td>\n      <td>874.9</td>\n      <td>1328</td>\n      <td>453.1</td>\n    </tr>\n    <tr>\n      <th>16</th>\n      <td>16:00:00</td>\n      <td>46.425</td>\n      <td>377.9</td>\n      <td>12.96</td>\n      <td>132.25</td>\n      <td>145.21</td>\n      <td>569.535</td>\n      <td>963</td>\n      <td>393.465</td>\n    </tr>\n    <tr>\n      <th>17</th>\n      <td>17:00:00</td>\n      <td>0</td>\n      <td>342.1</td>\n      <td>0</td>\n      <td>170.4</td>\n      <td>170.4</td>\n      <td>512.5</td>\n      <td>915</td>\n      <td>402.5</td>\n    </tr>\n    <tr>\n      <th>18</th>\n      <td>18:00:00</td>\n      <td>0</td>\n      <td>500.8</td>\n      <td>0</td>\n      <td>159.15</td>\n      <td>159.15</td>\n      <td>659.95</td>\n      <td>1084</td>\n      <td>424.05</td>\n    </tr>\n    <tr>\n      <th>19</th>\n      <td>19:00:00</td>\n      <td>0</td>\n      <td>464.6</td>\n      <td>0</td>\n      <td>164.95</td>\n      <td>164.95</td>\n      <td>629.55</td>\n      <td>814</td>\n      <td>184.45</td>\n    </tr>\n    <tr>\n      <th>20</th>\n      <td>20:00:00</td>\n      <td>0</td>\n      <td>219.7</td>\n      <td>0</td>\n      <td>85.15</td>\n      <td>85.15</td>\n      <td>304.85</td>\n      <td>844</td>\n      <td>539.15</td>\n    </tr>\n    <tr>\n      <th>21</th>\n      <td>21:00:00</td>\n      <td>0</td>\n      <td>178.3</td>\n      <td>0</td>\n      <td>82.75</td>\n      <td>82.75</td>\n      <td>261.05</td>\n      <td>954</td>\n      <td>692.95</td>\n    </tr>\n    <tr>\n      <th>22</th>\n      <td>22:00:00</td>\n      <td>0</td>\n      <td>153.5</td>\n      <td>0</td>\n      <td>94.85</td>\n      <td>94.85</td>\n      <td>248.35</td>\n      <td>864</td>\n      <td>615.65</td>\n    </tr>\n    <tr>\n      <th>23</th>\n      <td>23:00:00</td>\n      <td>0</td>\n      <td>0</td>\n      <td>0</td>\n      <td>116.15</td>\n      <td>116.15</td>\n      <td>116.15</td>\n      <td>890</td>\n      <td>773.85</td>\n    </tr>\n  </tbody>\n</table>\n</div>"
     },
     "execution_count": 10,
     "metadata": {},
     "output_type": "execute_result"
    }
   ],
   "source": [
    "data2 = pd.read_excel('data2.xlsx')#读入数据，附件2\n",
    "data2 = data2.iloc[30:,]\n",
    "data2 = data2.reset_index(drop=True)\n",
    "data2"
   ],
   "metadata": {
    "collapsed": false,
    "ExecuteTime": {
     "end_time": "2024-05-24T02:15:24.030223700Z",
     "start_time": "2024-05-24T02:15:23.991321300Z"
    }
   },
   "id": "118299cb28181c0e"
  },
  {
   "cell_type": "code",
   "execution_count": 28,
   "outputs": [],
   "source": [
    "LightProduce = data2.loc[:,['Unnamed: 1', 'Unnamed: 3']].values.tolist()\n",
    "WindProduce = data2.loc[:,['Unnamed: 2', 'Unnamed: 4']].values.tolist()\n",
    "TotalLoad = data2.loc[:,['Unnamed: 7']].values.tolist()"
   ],
   "metadata": {
    "collapsed": false,
    "ExecuteTime": {
     "end_time": "2024-05-24T02:23:33.067246700Z",
     "start_time": "2024-05-24T02:23:33.059317Z"
    }
   },
   "id": "78cfd41bc43b86ea"
  },
  {
   "cell_type": "code",
   "execution_count": null,
   "outputs": [],
   "source": [
    "LightProduce"
   ],
   "metadata": {
    "collapsed": false
   },
   "id": "34f8766b9326840f"
  },
  {
   "cell_type": "code",
   "execution_count": null,
   "outputs": [],
   "source": [
    "WindProduce"
   ],
   "metadata": {
    "collapsed": false
   },
   "id": "91ffe6bf63b99d76"
  },
  {
   "cell_type": "code",
   "execution_count": null,
   "outputs": [],
   "source": [
    "TotalLoad"
   ],
   "metadata": {
    "collapsed": false
   },
   "id": "2f0e797913cf9cd5"
  },
  {
   "cell_type": "code",
   "execution_count": null,
   "outputs": [],
   "source": [
    "A = 0\n",
    "B = 0\n",
    "Main_Function = (1+A)*WindProduce+(1+B)*LightProduce\n",
    "Loss_Function = (TotalLoad-Main_Function)"
   ],
   "metadata": {
    "collapsed": false
   },
   "id": "87f625896e88af4b"
  },
  {
   "cell_type": "markdown",
   "source": [
    "#完成梯度下降，以LightProduce盒WindProduce是二维数组，TotalLoad是一维数组"
   ],
   "metadata": {
    "collapsed": false
   },
   "id": "76f9e93e3b694be2"
  },
  {
   "cell_type": "code",
   "execution_count": null,
   "outputs": [],
   "source": [
    "#Remain Settle GD"
   ],
   "metadata": {
    "collapsed": false
   },
   "id": "899c0542ee856ee8"
  }
 ],
 "metadata": {
  "kernelspec": {
   "display_name": "Python 3",
   "language": "python",
   "name": "python3"
  },
  "language_info": {
   "codemirror_mode": {
    "name": "ipython",
    "version": 2
   },
   "file_extension": ".py",
   "mimetype": "text/x-python",
   "name": "python",
   "nbconvert_exporter": "python",
   "pygments_lexer": "ipython2",
   "version": "2.7.6"
  }
 },
 "nbformat": 4,
 "nbformat_minor": 5
}
