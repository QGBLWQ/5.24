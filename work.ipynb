{
 "cells": [
  {
   "cell_type": "markdown",
   "source": [
    "全局变量"
   ],
   "metadata": {
    "collapsed": false
   },
   "id": "ebc3d5ae53febd97"
  },
  {
   "cell_type": "code",
   "execution_count": 4,
   "outputs": [],
   "source": [
    "import pandas as pd\n",
    "import numpy as np\n",
    "WindProducePrice = 0.5 #风电成本 元/kwh\n",
    "LightProducePrice = 0.4 #光电成本 元/kwh\n",
    "BuyInPrice = 1 #主电网购入成本 元/kwh\n",
    "batteryCapacity = 100 #电池容量 kwh\n",
    "batteryPower = 50 #电池功率 kw"
   ],
   "metadata": {
    "collapsed": false,
    "ExecuteTime": {
     "end_time": "2024-05-24T16:40:31.358359100Z",
     "start_time": "2024-05-24T16:40:31.332361500Z"
    }
   },
   "id": "9be8f94cf838bd5d"
  },
  {
   "cell_type": "markdown",
   "source": [
    "#数据预处理#"
   ],
   "metadata": {
    "collapsed": false
   },
   "id": "a8e11f4117f90b8f"
  },
  {
   "cell_type": "code",
   "execution_count": 16,
   "outputs": [
    {
     "data": {
      "text/plain": "       时间（h）  园区A负荷(kW)  园区B负荷(kW)  园区C负荷(kW)\n0   00:00:00        275        241        302\n1   01:00:00        275        253        292\n2   02:00:00        277        329        307\n3   03:00:00        310        315        293\n4   04:00:00        310        290        271\n5   05:00:00        293        270        252\n6   06:00:00        293        307        283\n7   07:00:00        380        354        223\n8   08:00:00        375        264        292\n9   09:00:00        281        315        283\n10  10:00:00        447        313        287\n11  11:00:00        447        291        362\n12  12:00:00        447        360        446\n13  13:00:00        405        369        504\n14  14:00:00        404        389        455\n15  15:00:00        403        419        506\n16  16:00:00        268        412        283\n17  17:00:00        313        291        311\n18  18:00:00        287        379        418\n19  19:00:00        288        303        223\n20  20:00:00        284        331        229\n21  21:00:00        287        306        361\n22  22:00:00        277        285        302\n23  23:00:00        275        324        291",
      "text/html": "<div>\n<style scoped>\n    .dataframe tbody tr th:only-of-type {\n        vertical-align: middle;\n    }\n\n    .dataframe tbody tr th {\n        vertical-align: top;\n    }\n\n    .dataframe thead th {\n        text-align: right;\n    }\n</style>\n<table border=\"1\" class=\"dataframe\">\n  <thead>\n    <tr style=\"text-align: right;\">\n      <th></th>\n      <th>时间（h）</th>\n      <th>园区A负荷(kW)</th>\n      <th>园区B负荷(kW)</th>\n      <th>园区C负荷(kW)</th>\n    </tr>\n  </thead>\n  <tbody>\n    <tr>\n      <th>0</th>\n      <td>00:00:00</td>\n      <td>275</td>\n      <td>241</td>\n      <td>302</td>\n    </tr>\n    <tr>\n      <th>1</th>\n      <td>01:00:00</td>\n      <td>275</td>\n      <td>253</td>\n      <td>292</td>\n    </tr>\n    <tr>\n      <th>2</th>\n      <td>02:00:00</td>\n      <td>277</td>\n      <td>329</td>\n      <td>307</td>\n    </tr>\n    <tr>\n      <th>3</th>\n      <td>03:00:00</td>\n      <td>310</td>\n      <td>315</td>\n      <td>293</td>\n    </tr>\n    <tr>\n      <th>4</th>\n      <td>04:00:00</td>\n      <td>310</td>\n      <td>290</td>\n      <td>271</td>\n    </tr>\n    <tr>\n      <th>5</th>\n      <td>05:00:00</td>\n      <td>293</td>\n      <td>270</td>\n      <td>252</td>\n    </tr>\n    <tr>\n      <th>6</th>\n      <td>06:00:00</td>\n      <td>293</td>\n      <td>307</td>\n      <td>283</td>\n    </tr>\n    <tr>\n      <th>7</th>\n      <td>07:00:00</td>\n      <td>380</td>\n      <td>354</td>\n      <td>223</td>\n    </tr>\n    <tr>\n      <th>8</th>\n      <td>08:00:00</td>\n      <td>375</td>\n      <td>264</td>\n      <td>292</td>\n    </tr>\n    <tr>\n      <th>9</th>\n      <td>09:00:00</td>\n      <td>281</td>\n      <td>315</td>\n      <td>283</td>\n    </tr>\n    <tr>\n      <th>10</th>\n      <td>10:00:00</td>\n      <td>447</td>\n      <td>313</td>\n      <td>287</td>\n    </tr>\n    <tr>\n      <th>11</th>\n      <td>11:00:00</td>\n      <td>447</td>\n      <td>291</td>\n      <td>362</td>\n    </tr>\n    <tr>\n      <th>12</th>\n      <td>12:00:00</td>\n      <td>447</td>\n      <td>360</td>\n      <td>446</td>\n    </tr>\n    <tr>\n      <th>13</th>\n      <td>13:00:00</td>\n      <td>405</td>\n      <td>369</td>\n      <td>504</td>\n    </tr>\n    <tr>\n      <th>14</th>\n      <td>14:00:00</td>\n      <td>404</td>\n      <td>389</td>\n      <td>455</td>\n    </tr>\n    <tr>\n      <th>15</th>\n      <td>15:00:00</td>\n      <td>403</td>\n      <td>419</td>\n      <td>506</td>\n    </tr>\n    <tr>\n      <th>16</th>\n      <td>16:00:00</td>\n      <td>268</td>\n      <td>412</td>\n      <td>283</td>\n    </tr>\n    <tr>\n      <th>17</th>\n      <td>17:00:00</td>\n      <td>313</td>\n      <td>291</td>\n      <td>311</td>\n    </tr>\n    <tr>\n      <th>18</th>\n      <td>18:00:00</td>\n      <td>287</td>\n      <td>379</td>\n      <td>418</td>\n    </tr>\n    <tr>\n      <th>19</th>\n      <td>19:00:00</td>\n      <td>288</td>\n      <td>303</td>\n      <td>223</td>\n    </tr>\n    <tr>\n      <th>20</th>\n      <td>20:00:00</td>\n      <td>284</td>\n      <td>331</td>\n      <td>229</td>\n    </tr>\n    <tr>\n      <th>21</th>\n      <td>21:00:00</td>\n      <td>287</td>\n      <td>306</td>\n      <td>361</td>\n    </tr>\n    <tr>\n      <th>22</th>\n      <td>22:00:00</td>\n      <td>277</td>\n      <td>285</td>\n      <td>302</td>\n    </tr>\n    <tr>\n      <th>23</th>\n      <td>23:00:00</td>\n      <td>275</td>\n      <td>324</td>\n      <td>291</td>\n    </tr>\n  </tbody>\n</table>\n</div>"
     },
     "execution_count": 16,
     "metadata": {},
     "output_type": "execute_result"
    }
   ],
   "source": [
    "data1 = pd.read_excel('A题附件1：各园区典型日负荷数据.xlsx')\n",
    "data1"
   ],
   "metadata": {
    "collapsed": false,
    "ExecuteTime": {
     "end_time": "2024-05-24T17:09:46.042503600Z",
     "start_time": "2024-05-24T17:09:46.016358Z"
    }
   },
   "id": "4704f1f7add87ebb"
  },
  {
   "cell_type": "code",
   "execution_count": 3,
   "id": "118299cb28181c0e",
   "metadata": {
    "ExecuteTime": {
     "end_time": "2024-05-24T16:37:55.752439500Z",
     "start_time": "2024-05-24T16:37:55.414364300Z"
    }
   },
   "outputs": [
    {
     "data": {
      "text/plain": "   说明：表中数据标幺值以相应的风/光额定装机容量为基准 Unnamed: 1 Unnamed: 2 Unnamed: 3 Unnamed: 4  \\\n0                    00:00:00          0      230.1          0       73.2   \n1                    01:00:00          0      382.8          0     108.75   \n2                    02:00:00          0      296.8          0     197.95   \n3                    03:00:00          0      444.4          0      91.55   \n4                    04:00:00          0      502.9          0      235.8   \n5                    05:00:00          0      360.9          0     310.75   \n6                    06:00:00          0      240.2          0      147.3   \n7                    07:00:00       4.35       47.3        6.3       60.7   \n8                    08:00:00     226.95      153.8      196.8       12.5   \n9                    09:00:00      451.5      106.8     378.84     151.15   \n10                   10:00:00    578.325       51.8     476.16        9.8   \n11                   11:00:00    641.625      216.9      535.5       61.2   \n12                   12:00:00    639.825      354.6     539.94     166.75   \n13                   13:00:00     588.15      219.4     493.26     132.65   \n14                   14:00:00    482.775        111     400.02         61   \n15                   15:00:00     318.15      218.6      256.5      81.65   \n16                   16:00:00     46.425      377.9      12.96     132.25   \n17                   17:00:00          0      342.1          0      170.4   \n18                   18:00:00          0      500.8          0     159.15   \n19                   19:00:00          0      464.6          0     164.95   \n20                   20:00:00          0      219.7          0      85.15   \n21                   21:00:00          0      178.3          0      82.75   \n22                   22:00:00          0      153.5          0      94.85   \n23                   23:00:00          0          0          0     116.15   \n\n   Unnamed: 5 Unnamed: 6 Unnamed: 7 Unnamed: 8  \n0        73.2      303.3        818      514.7  \n1      108.75     491.55        820     328.45  \n2      197.95     494.75        913     418.25  \n3       91.55     535.95        918     382.05  \n4       235.8      738.7        871      132.3  \n5      310.75     671.65        815     143.35  \n6       147.3      387.5        883      495.5  \n7          67     118.65        957     838.35  \n8       209.3     590.05        931     340.95  \n9      529.99    1088.29        879    -209.29  \n10     485.96   1116.085       1047    -69.085  \n11      596.7   1455.225       1100   -355.225  \n12     706.69   1701.115       1253   -448.115  \n13     625.91    1433.46       1278    -155.46  \n14     461.02   1054.795       1248    193.205  \n15     338.15      874.9       1328      453.1  \n16     145.21    569.535        963    393.465  \n17      170.4      512.5        915      402.5  \n18     159.15     659.95       1084     424.05  \n19     164.95     629.55        814     184.45  \n20      85.15     304.85        844     539.15  \n21      82.75     261.05        954     692.95  \n22      94.85     248.35        864     615.65  \n23     116.15     116.15        890     773.85  ",
      "text/html": "<div>\n<style scoped>\n    .dataframe tbody tr th:only-of-type {\n        vertical-align: middle;\n    }\n\n    .dataframe tbody tr th {\n        vertical-align: top;\n    }\n\n    .dataframe thead th {\n        text-align: right;\n    }\n</style>\n<table border=\"1\" class=\"dataframe\">\n  <thead>\n    <tr style=\"text-align: right;\">\n      <th></th>\n      <th>说明：表中数据标幺值以相应的风/光额定装机容量为基准</th>\n      <th>Unnamed: 1</th>\n      <th>Unnamed: 2</th>\n      <th>Unnamed: 3</th>\n      <th>Unnamed: 4</th>\n      <th>Unnamed: 5</th>\n      <th>Unnamed: 6</th>\n      <th>Unnamed: 7</th>\n      <th>Unnamed: 8</th>\n    </tr>\n  </thead>\n  <tbody>\n    <tr>\n      <th>0</th>\n      <td>00:00:00</td>\n      <td>0</td>\n      <td>230.1</td>\n      <td>0</td>\n      <td>73.2</td>\n      <td>73.2</td>\n      <td>303.3</td>\n      <td>818</td>\n      <td>514.7</td>\n    </tr>\n    <tr>\n      <th>1</th>\n      <td>01:00:00</td>\n      <td>0</td>\n      <td>382.8</td>\n      <td>0</td>\n      <td>108.75</td>\n      <td>108.75</td>\n      <td>491.55</td>\n      <td>820</td>\n      <td>328.45</td>\n    </tr>\n    <tr>\n      <th>2</th>\n      <td>02:00:00</td>\n      <td>0</td>\n      <td>296.8</td>\n      <td>0</td>\n      <td>197.95</td>\n      <td>197.95</td>\n      <td>494.75</td>\n      <td>913</td>\n      <td>418.25</td>\n    </tr>\n    <tr>\n      <th>3</th>\n      <td>03:00:00</td>\n      <td>0</td>\n      <td>444.4</td>\n      <td>0</td>\n      <td>91.55</td>\n      <td>91.55</td>\n      <td>535.95</td>\n      <td>918</td>\n      <td>382.05</td>\n    </tr>\n    <tr>\n      <th>4</th>\n      <td>04:00:00</td>\n      <td>0</td>\n      <td>502.9</td>\n      <td>0</td>\n      <td>235.8</td>\n      <td>235.8</td>\n      <td>738.7</td>\n      <td>871</td>\n      <td>132.3</td>\n    </tr>\n    <tr>\n      <th>5</th>\n      <td>05:00:00</td>\n      <td>0</td>\n      <td>360.9</td>\n      <td>0</td>\n      <td>310.75</td>\n      <td>310.75</td>\n      <td>671.65</td>\n      <td>815</td>\n      <td>143.35</td>\n    </tr>\n    <tr>\n      <th>6</th>\n      <td>06:00:00</td>\n      <td>0</td>\n      <td>240.2</td>\n      <td>0</td>\n      <td>147.3</td>\n      <td>147.3</td>\n      <td>387.5</td>\n      <td>883</td>\n      <td>495.5</td>\n    </tr>\n    <tr>\n      <th>7</th>\n      <td>07:00:00</td>\n      <td>4.35</td>\n      <td>47.3</td>\n      <td>6.3</td>\n      <td>60.7</td>\n      <td>67</td>\n      <td>118.65</td>\n      <td>957</td>\n      <td>838.35</td>\n    </tr>\n    <tr>\n      <th>8</th>\n      <td>08:00:00</td>\n      <td>226.95</td>\n      <td>153.8</td>\n      <td>196.8</td>\n      <td>12.5</td>\n      <td>209.3</td>\n      <td>590.05</td>\n      <td>931</td>\n      <td>340.95</td>\n    </tr>\n    <tr>\n      <th>9</th>\n      <td>09:00:00</td>\n      <td>451.5</td>\n      <td>106.8</td>\n      <td>378.84</td>\n      <td>151.15</td>\n      <td>529.99</td>\n      <td>1088.29</td>\n      <td>879</td>\n      <td>-209.29</td>\n    </tr>\n    <tr>\n      <th>10</th>\n      <td>10:00:00</td>\n      <td>578.325</td>\n      <td>51.8</td>\n      <td>476.16</td>\n      <td>9.8</td>\n      <td>485.96</td>\n      <td>1116.085</td>\n      <td>1047</td>\n      <td>-69.085</td>\n    </tr>\n    <tr>\n      <th>11</th>\n      <td>11:00:00</td>\n      <td>641.625</td>\n      <td>216.9</td>\n      <td>535.5</td>\n      <td>61.2</td>\n      <td>596.7</td>\n      <td>1455.225</td>\n      <td>1100</td>\n      <td>-355.225</td>\n    </tr>\n    <tr>\n      <th>12</th>\n      <td>12:00:00</td>\n      <td>639.825</td>\n      <td>354.6</td>\n      <td>539.94</td>\n      <td>166.75</td>\n      <td>706.69</td>\n      <td>1701.115</td>\n      <td>1253</td>\n      <td>-448.115</td>\n    </tr>\n    <tr>\n      <th>13</th>\n      <td>13:00:00</td>\n      <td>588.15</td>\n      <td>219.4</td>\n      <td>493.26</td>\n      <td>132.65</td>\n      <td>625.91</td>\n      <td>1433.46</td>\n      <td>1278</td>\n      <td>-155.46</td>\n    </tr>\n    <tr>\n      <th>14</th>\n      <td>14:00:00</td>\n      <td>482.775</td>\n      <td>111</td>\n      <td>400.02</td>\n      <td>61</td>\n      <td>461.02</td>\n      <td>1054.795</td>\n      <td>1248</td>\n      <td>193.205</td>\n    </tr>\n    <tr>\n      <th>15</th>\n      <td>15:00:00</td>\n      <td>318.15</td>\n      <td>218.6</td>\n      <td>256.5</td>\n      <td>81.65</td>\n      <td>338.15</td>\n      <td>874.9</td>\n      <td>1328</td>\n      <td>453.1</td>\n    </tr>\n    <tr>\n      <th>16</th>\n      <td>16:00:00</td>\n      <td>46.425</td>\n      <td>377.9</td>\n      <td>12.96</td>\n      <td>132.25</td>\n      <td>145.21</td>\n      <td>569.535</td>\n      <td>963</td>\n      <td>393.465</td>\n    </tr>\n    <tr>\n      <th>17</th>\n      <td>17:00:00</td>\n      <td>0</td>\n      <td>342.1</td>\n      <td>0</td>\n      <td>170.4</td>\n      <td>170.4</td>\n      <td>512.5</td>\n      <td>915</td>\n      <td>402.5</td>\n    </tr>\n    <tr>\n      <th>18</th>\n      <td>18:00:00</td>\n      <td>0</td>\n      <td>500.8</td>\n      <td>0</td>\n      <td>159.15</td>\n      <td>159.15</td>\n      <td>659.95</td>\n      <td>1084</td>\n      <td>424.05</td>\n    </tr>\n    <tr>\n      <th>19</th>\n      <td>19:00:00</td>\n      <td>0</td>\n      <td>464.6</td>\n      <td>0</td>\n      <td>164.95</td>\n      <td>164.95</td>\n      <td>629.55</td>\n      <td>814</td>\n      <td>184.45</td>\n    </tr>\n    <tr>\n      <th>20</th>\n      <td>20:00:00</td>\n      <td>0</td>\n      <td>219.7</td>\n      <td>0</td>\n      <td>85.15</td>\n      <td>85.15</td>\n      <td>304.85</td>\n      <td>844</td>\n      <td>539.15</td>\n    </tr>\n    <tr>\n      <th>21</th>\n      <td>21:00:00</td>\n      <td>0</td>\n      <td>178.3</td>\n      <td>0</td>\n      <td>82.75</td>\n      <td>82.75</td>\n      <td>261.05</td>\n      <td>954</td>\n      <td>692.95</td>\n    </tr>\n    <tr>\n      <th>22</th>\n      <td>22:00:00</td>\n      <td>0</td>\n      <td>153.5</td>\n      <td>0</td>\n      <td>94.85</td>\n      <td>94.85</td>\n      <td>248.35</td>\n      <td>864</td>\n      <td>615.65</td>\n    </tr>\n    <tr>\n      <th>23</th>\n      <td>23:00:00</td>\n      <td>0</td>\n      <td>0</td>\n      <td>0</td>\n      <td>116.15</td>\n      <td>116.15</td>\n      <td>116.15</td>\n      <td>890</td>\n      <td>773.85</td>\n    </tr>\n  </tbody>\n</table>\n</div>"
     },
     "execution_count": 3,
     "metadata": {},
     "output_type": "execute_result"
    }
   ],
   "source": [
    "data2 = pd.read_excel('data2.xlsx')#读入数据，附件2\n",
    "data2 = data2.iloc[30:,]\n",
    "data2 = data2.reset_index(drop=True)\n",
    "data2"
   ]
  },
  {
   "cell_type": "code",
   "execution_count": 18,
   "outputs": [],
   "source": [
    "LightProduceByA = data2['Unnamed: 1'].values.tolist()\n",
    "WinProduceByB = data2['Unnamed: 2'].values.tolist()\n",
    "LightProduceByC = data2['Unnamed: 3'].values.tolist()\n",
    "WinProduceByC = data2['Unnamed: 4'].values.tolist()\n",
    "LoadA = data1['园区A负荷(kW)'].values.tolist()\n",
    "LoadB = data1['园区B负荷(kW)'].values.tolist()\n",
    "LoadC = data1['园区C负荷(kW)'].values.tolist()"
   ],
   "metadata": {
    "collapsed": false,
    "ExecuteTime": {
     "end_time": "2024-05-24T17:10:36.027673900Z",
     "start_time": "2024-05-24T17:10:36.016661200Z"
    }
   },
   "id": "52edb909ec667c3f"
  },
  {
   "cell_type": "markdown",
   "id": "76f9e93e3b694be2",
   "metadata": {},
   "source": [
    "#第一问第二小问："
   ]
  },
  {
   "cell_type": "code",
   "execution_count": 32,
   "outputs": [
    {
     "data": {
      "text/plain": "[0,\n 0,\n 0,\n 0,\n 0,\n 0,\n 0,\n 4.35,\n 226.95,\n 451.5,\n 578.325,\n 641.625,\n 639.8249999999999,\n 588.15,\n 482.77500000000003,\n 318.15000000000003,\n 46.425,\n 0,\n 0,\n 0,\n 0,\n 0,\n 0,\n 0]"
     },
     "execution_count": 32,
     "metadata": {},
     "output_type": "execute_result"
    }
   ],
   "source": [
    "LightProduceByA"
   ],
   "metadata": {
    "collapsed": false,
    "ExecuteTime": {
     "end_time": "2024-05-24T17:28:21.052450200Z",
     "start_time": "2024-05-24T17:28:21.040273600Z"
    }
   },
   "id": "a2f83da9a121599b"
  },
  {
   "cell_type": "code",
   "execution_count": 54,
   "outputs": [],
   "source": [
    "def calculate_costs(Produce,Loads,Price,TypedPrice):\n",
    "    # 初始电池电量设置为电池最大容量的10%\n",
    "    # 最大电池电量设置为电池最大容量的90%\n",
    "    min_battery_Capacity = 0.1 * batteryCapacity\n",
    "    max_battery_Capacity = 0.9 * batteryCapacity\n",
    "    CurrentBatteryCapacity = 0 #初始化电池容量\n",
    "    TotalData = pd.DataFrame(columns=[\n",
    "        '时间', \n",
    "        '电池电量', \n",
    "        '负荷-发电', \n",
    "        '买电花费',\n",
    "        '产电成本',\n",
    "        '总花费'\n",
    "        ])\n",
    "    FirstFlag = True\n",
    "    iteration = 0\n",
    "    totalcost = 0\n",
    "    for PowerProduce,Load in zip(Produce,Loads):#PowerProduce为发电量，Load为负荷量\n",
    "        Demand = Load-PowerProduce #需电量\n",
    "        BuyInElcCost = 0 #初始化购电费用\n",
    "        ProduceElcCost = 0 #初始化发电费用\n",
    "        # 判断负荷量是否大于发电量\n",
    "        if Demand>0:#需要放电\n",
    "            if CurrentBatteryCapacity>min_battery_Capacity:#判断电池是否可以放电\n",
    "                if(Demand-(CurrentBatteryCapacity-min_battery_Capacity)*0.95>0):#判断是否需要额外买电\n",
    "                    BuyInElcCost = (PowerProduce-(CurrentBatteryCapacity-min_battery_Capacity)*0.95)/Price\n",
    "                    ProduceElcCost = PowerProduce*TypedPrice\n",
    "                    CurrentBatteryCapacity = min_battery_Capacity\n",
    "                else:\n",
    "                    ProduceElcCost = PowerProduce*TypedPrice\n",
    "                    CurrentBatteryCapacity = CurrentBatteryCapacity - Demand/0.95\n",
    "            else:\n",
    "                BuyInElcCost = Demand/Price\n",
    "                ProduceElcCost = PowerProduce*TypedPrice\n",
    "        else:#可以充电\n",
    "            if (CurrentBatteryCapacity<max_battery_Capacity or FirstFlag):#判断电池是否可以充电\n",
    "                FirstFlag = False\n",
    "                if(abs(Demand)-(max_battery_Capacity-CurrentBatteryCapacity)/0.95>0):#判断是否浪费\n",
    "                    ProduceElcCost = PowerProduce*TypedPrice\n",
    "                    CurrentBatteryCapacity = max_battery_Capacity\n",
    "                else:\n",
    "                    ProduceElcCost = PowerProduce*TypedPrice\n",
    "                    CurrentBatteryCapacity = CurrentBatteryCapacity + abs(Demand)*0.95\n",
    "            else:\n",
    "                ProduceElcCost = PowerProduce*TypedPrice\n",
    "        totalcost += BuyInElcCost+ProduceElcCost\n",
    "         # 记录每次循环的数据\n",
    "        new_row = pd.DataFrame({\n",
    "        '时间':[iteration],\n",
    "        '电池电量':[CurrentBatteryCapacity],\n",
    "        '负荷-发电':[Demand],\n",
    "        '买电花费':[BuyInElcCost],\n",
    "        '产电成本':[ProduceElcCost],\n",
    "        '总花费':[totalcost]\n",
    "        })\n",
    "        TotalData = pd.concat([TotalData,new_row], ignore_index=False)\n",
    "        iteration +=1\n",
    "    return totalcost"
   ],
   "metadata": {
    "collapsed": false,
    "ExecuteTime": {
     "end_time": "2024-05-24T18:03:39.260518500Z",
     "start_time": "2024-05-24T18:03:39.244586400Z"
    }
   },
   "id": "35d07c308622fc8b"
  },
  {
   "cell_type": "code",
   "execution_count": 55,
   "outputs": [],
   "source": [
    "def calculate_costs_for_multy(LightProduce,WindProduce,Loads,Price,LightTypedPrice,WindTypedPrice):\n",
    "    # 初始电池电量设置为电池最大容量的10%\n",
    "    # 最大电池电量设置为电池最大容量的90%\n",
    "    min_battery_Capacity = 0.1 * batteryCapacity\n",
    "    max_battery_Capacity = 0.9 * batteryCapacity\n",
    "    CurrentBatteryCapacity = 0 #初始化电池容量\n",
    "    TotalData = pd.DataFrame(columns=[\n",
    "        '时间', \n",
    "        '电池电量', \n",
    "        '负荷-发电', \n",
    "        '买电花费',\n",
    "        '产电成本',\n",
    "        '总花费'\n",
    "        ])\n",
    "    FirstFlag = True\n",
    "    iteration = 0\n",
    "    totalcost = 0\n",
    "    for LightPowerProduce,WindPowerProduce,Load in zip(LightProduce,WindProduce,Loads):#PowerProduce为发电量，Load为负荷量\n",
    "        PowerProduce = (LightPowerProduce+WindPowerProduce)\n",
    "        print(f'出力:{LightPowerProduce+WindPowerProduce},需求:{Load}')\n",
    "        Demand = Load-(LightPowerProduce+WindPowerProduce) #需电量\n",
    "        BuyInElcCost = 0 #初始化购电费用\n",
    "        ProduceElcCost = 0 #初始化发电费用\n",
    "        # 判断负荷量是否大于发电量\n",
    "        if Demand>0:#需要放电\n",
    "            if CurrentBatteryCapacity>min_battery_Capacity:#判断电池是否可以放电\n",
    "                if(Demand-(CurrentBatteryCapacity-min_battery_Capacity)*0.95>0):#判断是否需要额外买电\n",
    "                    BuyInElcCost = (PowerProduce-(CurrentBatteryCapacity-min_battery_Capacity)*0.95)/Price\n",
    "                    ProduceElcCost = (LightPowerProduce*LightTypedPrice)+(WindPowerProduce*WindTypedPrice)\n",
    "                    CurrentBatteryCapacity = min_battery_Capacity\n",
    "                else:\n",
    "                    ProduceElcCost = (LightPowerProduce*LightTypedPrice)+(WindPowerProduce*WindTypedPrice)\n",
    "                    CurrentBatteryCapacity = CurrentBatteryCapacity - Demand/0.95\n",
    "            else:\n",
    "                BuyInElcCost = Demand/Price\n",
    "                ProduceElcCost = (LightPowerProduce*LightTypedPrice)+(WindPowerProduce*WindTypedPrice)\n",
    "        else:#可以充电\n",
    "            if (CurrentBatteryCapacity<max_battery_Capacity or FirstFlag):#判断电池是否可以充电\n",
    "                FirstFlag = False\n",
    "                if(abs(Demand)-(max_battery_Capacity-CurrentBatteryCapacity)/0.95>0):#判断是否浪费\n",
    "                    ProduceElcCost = (LightPowerProduce*LightTypedPrice)+(WindPowerProduce*WindTypedPrice)\n",
    "                    CurrentBatteryCapacity = max_battery_Capacity\n",
    "                else:\n",
    "                    ProduceElcCost = (LightPowerProduce*LightTypedPrice)+(WindPowerProduce*WindTypedPrice)\n",
    "                    CurrentBatteryCapacity = CurrentBatteryCapacity + abs(Demand)*0.95\n",
    "            else:\n",
    "                ProduceElcCost = (LightPowerProduce*LightTypedPrice)+(WindPowerProduce*WindTypedPrice)\n",
    "        totalcost += BuyInElcCost+ProduceElcCost\n",
    "         # 记录每次循环的数据\n",
    "        new_row = pd.DataFrame({\n",
    "        '时间':[iteration],\n",
    "        '电池电量':[CurrentBatteryCapacity],\n",
    "        '负荷-发电':[Demand],\n",
    "        '买电花费':[BuyInElcCost],\n",
    "        '产电成本':[ProduceElcCost],\n",
    "        '总花费':[totalcost]\n",
    "        })\n",
    "        TotalData = pd.concat([TotalData,new_row], ignore_index=False)\n",
    "        iteration +=1\n",
    "    return totalcost"
   ],
   "metadata": {
    "collapsed": false,
    "ExecuteTime": {
     "end_time": "2024-05-24T18:03:41.164522600Z",
     "start_time": "2024-05-24T18:03:41.155538600Z"
    }
   },
   "id": "edec1f1fb380c835"
  },
  {
   "cell_type": "code",
   "execution_count": 56,
   "outputs": [
    {
     "data": {
      "text/plain": "6622.655000000001"
     },
     "execution_count": 56,
     "metadata": {},
     "output_type": "execute_result"
    }
   ],
   "source": [
    "calculate_costs(LightProduceByA,LoadA,BuyInPrice,LightProducePrice)"
   ],
   "metadata": {
    "collapsed": false,
    "ExecuteTime": {
     "end_time": "2024-05-24T18:03:50.195807500Z",
     "start_time": "2024-05-24T18:03:50.171834800Z"
    }
   },
   "id": "6ca2b522acaa0fed"
  },
  {
   "cell_type": "code",
   "execution_count": 57,
   "outputs": [
    {
     "data": {
      "text/plain": "5184.700000000001"
     },
     "execution_count": 57,
     "metadata": {},
     "output_type": "execute_result"
    }
   ],
   "source": [
    "calculate_costs(WinProduceByB,LoadB,BuyInPrice,WindProducePrice)"
   ],
   "metadata": {
    "collapsed": false,
    "ExecuteTime": {
     "end_time": "2024-05-24T18:03:52.147482700Z",
     "start_time": "2024-05-24T18:03:52.100843500Z"
    }
   },
   "id": "a71aa8d60b6ace29"
  },
  {
   "cell_type": "code",
   "execution_count": 58,
   "outputs": [
    {
     "name": "stdout",
     "output_type": "stream",
     "text": [
      "出力:73.2,需求:302\n",
      "出力:108.75,需求:292\n",
      "出力:197.95,需求:307\n",
      "出力:91.55000000000001,需求:293\n",
      "出力:235.8,需求:271\n",
      "出力:310.75,需求:252\n",
      "出力:147.29999999999998,需求:283\n",
      "出力:67.0,需求:223\n",
      "出力:209.3,需求:292\n",
      "出力:529.99,需求:283\n",
      "出力:485.96,需求:287\n",
      "出力:596.7,需求:362\n",
      "出力:706.69,需求:446\n",
      "出力:625.9100000000001,需求:504\n",
      "出力:461.02,需求:455\n",
      "出力:338.15,需求:506\n",
      "出力:145.21,需求:283\n",
      "出力:170.4,需求:311\n",
      "出力:159.15,需求:418\n",
      "出力:164.95000000000002,需求:223\n",
      "出力:85.15,需求:229\n",
      "出力:82.75,需求:361\n",
      "出力:94.85000000000001,需求:302\n",
      "出力:116.15,需求:291\n"
     ]
    },
    {
     "data": {
      "text/plain": "5534.4551249999995"
     },
     "execution_count": 58,
     "metadata": {},
     "output_type": "execute_result"
    }
   ],
   "source": [
    "calculate_costs_for_multy(LightProduceByC,WinProduceByC,LoadC,BuyInPrice,LightProducePrice,WindProducePrice)"
   ],
   "metadata": {
    "collapsed": false,
    "ExecuteTime": {
     "end_time": "2024-05-24T18:03:54.022214300Z",
     "start_time": "2024-05-24T18:03:53.987140500Z"
    }
   },
   "id": "ea98b459c8ed2e82"
  }
 ],
 "metadata": {
  "kernelspec": {
   "name": "python3",
   "language": "python",
   "display_name": "Python 3 (ipykernel)"
  },
  "language_info": {
   "codemirror_mode": {
    "name": "ipython",
    "version": 3
   },
   "file_extension": ".py",
   "mimetype": "text/x-python",
   "name": "python",
   "nbconvert_exporter": "python",
   "pygments_lexer": "ipython3",
   "version": "3.8.18"
  }
 },
 "nbformat": 4,
 "nbformat_minor": 5
}
