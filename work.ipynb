{
 "cells": [
  {
   "cell_type": "markdown",
   "id": "ebc3d5ae53febd97",
   "metadata": {},
   "source": [
    "全局变量"
   ]
  },
  {
   "cell_type": "code",
   "execution_count": 1,
   "id": "9be8f94cf838bd5d",
   "metadata": {
    "ExecuteTime": {
     "end_time": "2024-05-25T09:50:26.749026800Z",
     "start_time": "2024-05-25T09:50:25.824979Z"
    }
   },
   "outputs": [],
   "source": [
    "import pandas as pd\n",
    "import numpy as np\n",
    "import matplotlib.pyplot as plt\n",
    "from mpl_toolkits.mplot3d import Axes3D\n",
    "from tqdm import tqdm\n",
    "WindProducePrice = 0.5 #风电成本 元/kwh\n",
    "LightProducePrice = 0.4 #光电成本 元/kwh\n",
    "BuyInPrice = 1 #主电网购入成本 元/kwh\n",
    "batteryCapacity = 100 #电池容量 kwh\n",
    "batteryPower = 50 #电池功率 kw"
   ]
  },
  {
   "cell_type": "markdown",
   "id": "a8e11f4117f90b8f",
   "metadata": {},
   "source": [
    "#数据预处理#"
   ]
  },
  {
   "cell_type": "code",
   "execution_count": 2,
   "id": "4704f1f7add87ebb",
   "metadata": {
    "ExecuteTime": {
     "end_time": "2024-05-25T09:50:29.606602700Z",
     "start_time": "2024-05-25T09:50:29.355126600Z"
    }
   },
   "outputs": [
    {
     "data": {
      "text/plain": "       时间（h）  园区A负荷(kW)  园区B负荷(kW)  园区C负荷(kW)\n0   00:00:00        275        241        302\n1   01:00:00        275        253        292\n2   02:00:00        277        329        307\n3   03:00:00        310        315        293\n4   04:00:00        310        290        271\n5   05:00:00        293        270        252\n6   06:00:00        293        307        283\n7   07:00:00        380        354        223\n8   08:00:00        375        264        292\n9   09:00:00        281        315        283\n10  10:00:00        447        313        287\n11  11:00:00        447        291        362\n12  12:00:00        447        360        446\n13  13:00:00        405        369        504\n14  14:00:00        404        389        455\n15  15:00:00        403        419        506\n16  16:00:00        268        412        283\n17  17:00:00        313        291        311\n18  18:00:00        287        379        418\n19  19:00:00        288        303        223\n20  20:00:00        284        331        229\n21  21:00:00        287        306        361\n22  22:00:00        277        285        302\n23  23:00:00        275        324        291",
      "text/html": "<div>\n<style scoped>\n    .dataframe tbody tr th:only-of-type {\n        vertical-align: middle;\n    }\n\n    .dataframe tbody tr th {\n        vertical-align: top;\n    }\n\n    .dataframe thead th {\n        text-align: right;\n    }\n</style>\n<table border=\"1\" class=\"dataframe\">\n  <thead>\n    <tr style=\"text-align: right;\">\n      <th></th>\n      <th>时间（h）</th>\n      <th>园区A负荷(kW)</th>\n      <th>园区B负荷(kW)</th>\n      <th>园区C负荷(kW)</th>\n    </tr>\n  </thead>\n  <tbody>\n    <tr>\n      <th>0</th>\n      <td>00:00:00</td>\n      <td>275</td>\n      <td>241</td>\n      <td>302</td>\n    </tr>\n    <tr>\n      <th>1</th>\n      <td>01:00:00</td>\n      <td>275</td>\n      <td>253</td>\n      <td>292</td>\n    </tr>\n    <tr>\n      <th>2</th>\n      <td>02:00:00</td>\n      <td>277</td>\n      <td>329</td>\n      <td>307</td>\n    </tr>\n    <tr>\n      <th>3</th>\n      <td>03:00:00</td>\n      <td>310</td>\n      <td>315</td>\n      <td>293</td>\n    </tr>\n    <tr>\n      <th>4</th>\n      <td>04:00:00</td>\n      <td>310</td>\n      <td>290</td>\n      <td>271</td>\n    </tr>\n    <tr>\n      <th>5</th>\n      <td>05:00:00</td>\n      <td>293</td>\n      <td>270</td>\n      <td>252</td>\n    </tr>\n    <tr>\n      <th>6</th>\n      <td>06:00:00</td>\n      <td>293</td>\n      <td>307</td>\n      <td>283</td>\n    </tr>\n    <tr>\n      <th>7</th>\n      <td>07:00:00</td>\n      <td>380</td>\n      <td>354</td>\n      <td>223</td>\n    </tr>\n    <tr>\n      <th>8</th>\n      <td>08:00:00</td>\n      <td>375</td>\n      <td>264</td>\n      <td>292</td>\n    </tr>\n    <tr>\n      <th>9</th>\n      <td>09:00:00</td>\n      <td>281</td>\n      <td>315</td>\n      <td>283</td>\n    </tr>\n    <tr>\n      <th>10</th>\n      <td>10:00:00</td>\n      <td>447</td>\n      <td>313</td>\n      <td>287</td>\n    </tr>\n    <tr>\n      <th>11</th>\n      <td>11:00:00</td>\n      <td>447</td>\n      <td>291</td>\n      <td>362</td>\n    </tr>\n    <tr>\n      <th>12</th>\n      <td>12:00:00</td>\n      <td>447</td>\n      <td>360</td>\n      <td>446</td>\n    </tr>\n    <tr>\n      <th>13</th>\n      <td>13:00:00</td>\n      <td>405</td>\n      <td>369</td>\n      <td>504</td>\n    </tr>\n    <tr>\n      <th>14</th>\n      <td>14:00:00</td>\n      <td>404</td>\n      <td>389</td>\n      <td>455</td>\n    </tr>\n    <tr>\n      <th>15</th>\n      <td>15:00:00</td>\n      <td>403</td>\n      <td>419</td>\n      <td>506</td>\n    </tr>\n    <tr>\n      <th>16</th>\n      <td>16:00:00</td>\n      <td>268</td>\n      <td>412</td>\n      <td>283</td>\n    </tr>\n    <tr>\n      <th>17</th>\n      <td>17:00:00</td>\n      <td>313</td>\n      <td>291</td>\n      <td>311</td>\n    </tr>\n    <tr>\n      <th>18</th>\n      <td>18:00:00</td>\n      <td>287</td>\n      <td>379</td>\n      <td>418</td>\n    </tr>\n    <tr>\n      <th>19</th>\n      <td>19:00:00</td>\n      <td>288</td>\n      <td>303</td>\n      <td>223</td>\n    </tr>\n    <tr>\n      <th>20</th>\n      <td>20:00:00</td>\n      <td>284</td>\n      <td>331</td>\n      <td>229</td>\n    </tr>\n    <tr>\n      <th>21</th>\n      <td>21:00:00</td>\n      <td>287</td>\n      <td>306</td>\n      <td>361</td>\n    </tr>\n    <tr>\n      <th>22</th>\n      <td>22:00:00</td>\n      <td>277</td>\n      <td>285</td>\n      <td>302</td>\n    </tr>\n    <tr>\n      <th>23</th>\n      <td>23:00:00</td>\n      <td>275</td>\n      <td>324</td>\n      <td>291</td>\n    </tr>\n  </tbody>\n</table>\n</div>"
     },
     "execution_count": 2,
     "metadata": {},
     "output_type": "execute_result"
    }
   ],
   "source": [
    "data1 = pd.read_excel('A题附件1：各园区典型日负荷数据.xlsx')\n",
    "data1"
   ]
  },
  {
   "cell_type": "code",
   "execution_count": 3,
   "id": "118299cb28181c0e",
   "metadata": {
    "ExecuteTime": {
     "end_time": "2024-05-25T09:50:31.297467800Z",
     "start_time": "2024-05-25T09:50:31.242906700Z"
    }
   },
   "outputs": [
    {
     "data": {
      "text/plain": "   说明：表中数据标幺值以相应的风/光额定装机容量为基准 Unnamed: 1 Unnamed: 2 Unnamed: 3 Unnamed: 4  \\\n0                    00:00:00          0      230.1          0       73.2   \n1                    01:00:00          0      382.8          0     108.75   \n2                    02:00:00          0      296.8          0     197.95   \n3                    03:00:00          0      444.4          0      91.55   \n4                    04:00:00          0      502.9          0      235.8   \n5                    05:00:00          0      360.9          0     310.75   \n6                    06:00:00          0      240.2          0      147.3   \n7                    07:00:00       4.35       47.3        6.3       60.7   \n8                    08:00:00     226.95      153.8      196.8       12.5   \n9                    09:00:00      451.5      106.8     378.84     151.15   \n10                   10:00:00    578.325       51.8     476.16        9.8   \n11                   11:00:00    641.625      216.9      535.5       61.2   \n12                   12:00:00    639.825      354.6     539.94     166.75   \n13                   13:00:00     588.15      219.4     493.26     132.65   \n14                   14:00:00    482.775        111     400.02         61   \n15                   15:00:00     318.15      218.6      256.5      81.65   \n16                   16:00:00     46.425      377.9      12.96     132.25   \n17                   17:00:00          0      342.1          0      170.4   \n18                   18:00:00          0      500.8          0     159.15   \n19                   19:00:00          0      464.6          0     164.95   \n20                   20:00:00          0      219.7          0      85.15   \n21                   21:00:00          0      178.3          0      82.75   \n22                   22:00:00          0      153.5          0      94.85   \n23                   23:00:00          0          0          0     116.15   \n\n   Unnamed: 5 Unnamed: 6 Unnamed: 7 Unnamed: 8  \n0        73.2      303.3        818      514.7  \n1      108.75     491.55        820     328.45  \n2      197.95     494.75        913     418.25  \n3       91.55     535.95        918     382.05  \n4       235.8      738.7        871      132.3  \n5      310.75     671.65        815     143.35  \n6       147.3      387.5        883      495.5  \n7          67     118.65        957     838.35  \n8       209.3     590.05        931     340.95  \n9      529.99    1088.29        879    -209.29  \n10     485.96   1116.085       1047    -69.085  \n11      596.7   1455.225       1100   -355.225  \n12     706.69   1701.115       1253   -448.115  \n13     625.91    1433.46       1278    -155.46  \n14     461.02   1054.795       1248    193.205  \n15     338.15      874.9       1328      453.1  \n16     145.21    569.535        963    393.465  \n17      170.4      512.5        915      402.5  \n18     159.15     659.95       1084     424.05  \n19     164.95     629.55        814     184.45  \n20      85.15     304.85        844     539.15  \n21      82.75     261.05        954     692.95  \n22      94.85     248.35        864     615.65  \n23     116.15     116.15        890     773.85  ",
      "text/html": "<div>\n<style scoped>\n    .dataframe tbody tr th:only-of-type {\n        vertical-align: middle;\n    }\n\n    .dataframe tbody tr th {\n        vertical-align: top;\n    }\n\n    .dataframe thead th {\n        text-align: right;\n    }\n</style>\n<table border=\"1\" class=\"dataframe\">\n  <thead>\n    <tr style=\"text-align: right;\">\n      <th></th>\n      <th>说明：表中数据标幺值以相应的风/光额定装机容量为基准</th>\n      <th>Unnamed: 1</th>\n      <th>Unnamed: 2</th>\n      <th>Unnamed: 3</th>\n      <th>Unnamed: 4</th>\n      <th>Unnamed: 5</th>\n      <th>Unnamed: 6</th>\n      <th>Unnamed: 7</th>\n      <th>Unnamed: 8</th>\n    </tr>\n  </thead>\n  <tbody>\n    <tr>\n      <th>0</th>\n      <td>00:00:00</td>\n      <td>0</td>\n      <td>230.1</td>\n      <td>0</td>\n      <td>73.2</td>\n      <td>73.2</td>\n      <td>303.3</td>\n      <td>818</td>\n      <td>514.7</td>\n    </tr>\n    <tr>\n      <th>1</th>\n      <td>01:00:00</td>\n      <td>0</td>\n      <td>382.8</td>\n      <td>0</td>\n      <td>108.75</td>\n      <td>108.75</td>\n      <td>491.55</td>\n      <td>820</td>\n      <td>328.45</td>\n    </tr>\n    <tr>\n      <th>2</th>\n      <td>02:00:00</td>\n      <td>0</td>\n      <td>296.8</td>\n      <td>0</td>\n      <td>197.95</td>\n      <td>197.95</td>\n      <td>494.75</td>\n      <td>913</td>\n      <td>418.25</td>\n    </tr>\n    <tr>\n      <th>3</th>\n      <td>03:00:00</td>\n      <td>0</td>\n      <td>444.4</td>\n      <td>0</td>\n      <td>91.55</td>\n      <td>91.55</td>\n      <td>535.95</td>\n      <td>918</td>\n      <td>382.05</td>\n    </tr>\n    <tr>\n      <th>4</th>\n      <td>04:00:00</td>\n      <td>0</td>\n      <td>502.9</td>\n      <td>0</td>\n      <td>235.8</td>\n      <td>235.8</td>\n      <td>738.7</td>\n      <td>871</td>\n      <td>132.3</td>\n    </tr>\n    <tr>\n      <th>5</th>\n      <td>05:00:00</td>\n      <td>0</td>\n      <td>360.9</td>\n      <td>0</td>\n      <td>310.75</td>\n      <td>310.75</td>\n      <td>671.65</td>\n      <td>815</td>\n      <td>143.35</td>\n    </tr>\n    <tr>\n      <th>6</th>\n      <td>06:00:00</td>\n      <td>0</td>\n      <td>240.2</td>\n      <td>0</td>\n      <td>147.3</td>\n      <td>147.3</td>\n      <td>387.5</td>\n      <td>883</td>\n      <td>495.5</td>\n    </tr>\n    <tr>\n      <th>7</th>\n      <td>07:00:00</td>\n      <td>4.35</td>\n      <td>47.3</td>\n      <td>6.3</td>\n      <td>60.7</td>\n      <td>67</td>\n      <td>118.65</td>\n      <td>957</td>\n      <td>838.35</td>\n    </tr>\n    <tr>\n      <th>8</th>\n      <td>08:00:00</td>\n      <td>226.95</td>\n      <td>153.8</td>\n      <td>196.8</td>\n      <td>12.5</td>\n      <td>209.3</td>\n      <td>590.05</td>\n      <td>931</td>\n      <td>340.95</td>\n    </tr>\n    <tr>\n      <th>9</th>\n      <td>09:00:00</td>\n      <td>451.5</td>\n      <td>106.8</td>\n      <td>378.84</td>\n      <td>151.15</td>\n      <td>529.99</td>\n      <td>1088.29</td>\n      <td>879</td>\n      <td>-209.29</td>\n    </tr>\n    <tr>\n      <th>10</th>\n      <td>10:00:00</td>\n      <td>578.325</td>\n      <td>51.8</td>\n      <td>476.16</td>\n      <td>9.8</td>\n      <td>485.96</td>\n      <td>1116.085</td>\n      <td>1047</td>\n      <td>-69.085</td>\n    </tr>\n    <tr>\n      <th>11</th>\n      <td>11:00:00</td>\n      <td>641.625</td>\n      <td>216.9</td>\n      <td>535.5</td>\n      <td>61.2</td>\n      <td>596.7</td>\n      <td>1455.225</td>\n      <td>1100</td>\n      <td>-355.225</td>\n    </tr>\n    <tr>\n      <th>12</th>\n      <td>12:00:00</td>\n      <td>639.825</td>\n      <td>354.6</td>\n      <td>539.94</td>\n      <td>166.75</td>\n      <td>706.69</td>\n      <td>1701.115</td>\n      <td>1253</td>\n      <td>-448.115</td>\n    </tr>\n    <tr>\n      <th>13</th>\n      <td>13:00:00</td>\n      <td>588.15</td>\n      <td>219.4</td>\n      <td>493.26</td>\n      <td>132.65</td>\n      <td>625.91</td>\n      <td>1433.46</td>\n      <td>1278</td>\n      <td>-155.46</td>\n    </tr>\n    <tr>\n      <th>14</th>\n      <td>14:00:00</td>\n      <td>482.775</td>\n      <td>111</td>\n      <td>400.02</td>\n      <td>61</td>\n      <td>461.02</td>\n      <td>1054.795</td>\n      <td>1248</td>\n      <td>193.205</td>\n    </tr>\n    <tr>\n      <th>15</th>\n      <td>15:00:00</td>\n      <td>318.15</td>\n      <td>218.6</td>\n      <td>256.5</td>\n      <td>81.65</td>\n      <td>338.15</td>\n      <td>874.9</td>\n      <td>1328</td>\n      <td>453.1</td>\n    </tr>\n    <tr>\n      <th>16</th>\n      <td>16:00:00</td>\n      <td>46.425</td>\n      <td>377.9</td>\n      <td>12.96</td>\n      <td>132.25</td>\n      <td>145.21</td>\n      <td>569.535</td>\n      <td>963</td>\n      <td>393.465</td>\n    </tr>\n    <tr>\n      <th>17</th>\n      <td>17:00:00</td>\n      <td>0</td>\n      <td>342.1</td>\n      <td>0</td>\n      <td>170.4</td>\n      <td>170.4</td>\n      <td>512.5</td>\n      <td>915</td>\n      <td>402.5</td>\n    </tr>\n    <tr>\n      <th>18</th>\n      <td>18:00:00</td>\n      <td>0</td>\n      <td>500.8</td>\n      <td>0</td>\n      <td>159.15</td>\n      <td>159.15</td>\n      <td>659.95</td>\n      <td>1084</td>\n      <td>424.05</td>\n    </tr>\n    <tr>\n      <th>19</th>\n      <td>19:00:00</td>\n      <td>0</td>\n      <td>464.6</td>\n      <td>0</td>\n      <td>164.95</td>\n      <td>164.95</td>\n      <td>629.55</td>\n      <td>814</td>\n      <td>184.45</td>\n    </tr>\n    <tr>\n      <th>20</th>\n      <td>20:00:00</td>\n      <td>0</td>\n      <td>219.7</td>\n      <td>0</td>\n      <td>85.15</td>\n      <td>85.15</td>\n      <td>304.85</td>\n      <td>844</td>\n      <td>539.15</td>\n    </tr>\n    <tr>\n      <th>21</th>\n      <td>21:00:00</td>\n      <td>0</td>\n      <td>178.3</td>\n      <td>0</td>\n      <td>82.75</td>\n      <td>82.75</td>\n      <td>261.05</td>\n      <td>954</td>\n      <td>692.95</td>\n    </tr>\n    <tr>\n      <th>22</th>\n      <td>22:00:00</td>\n      <td>0</td>\n      <td>153.5</td>\n      <td>0</td>\n      <td>94.85</td>\n      <td>94.85</td>\n      <td>248.35</td>\n      <td>864</td>\n      <td>615.65</td>\n    </tr>\n    <tr>\n      <th>23</th>\n      <td>23:00:00</td>\n      <td>0</td>\n      <td>0</td>\n      <td>0</td>\n      <td>116.15</td>\n      <td>116.15</td>\n      <td>116.15</td>\n      <td>890</td>\n      <td>773.85</td>\n    </tr>\n  </tbody>\n</table>\n</div>"
     },
     "execution_count": 3,
     "metadata": {},
     "output_type": "execute_result"
    }
   ],
   "source": [
    "data2 = pd.read_excel('data2.xlsx')#读入数据，附件2\n",
    "data2 = data2.iloc[30:,]\n",
    "data2 = data2.reset_index(drop=True)\n",
    "data2"
   ]
  },
  {
   "cell_type": "code",
   "execution_count": 4,
   "id": "52edb909ec667c3f",
   "metadata": {
    "ExecuteTime": {
     "end_time": "2024-05-25T09:50:31.924762800Z",
     "start_time": "2024-05-25T09:50:31.879622100Z"
    }
   },
   "outputs": [],
   "source": [
    "LightProduceByA = data2['Unnamed: 1'].values.tolist()\n",
    "WinProduceByB = data2['Unnamed: 2'].values.tolist()\n",
    "LightProduceByC = data2['Unnamed: 3'].values.tolist()\n",
    "WinProduceByC = data2['Unnamed: 4'].values.tolist()\n",
    "LoadA = data1['园区A负荷(kW)'].values.tolist()\n",
    "LoadB = data1['园区B负荷(kW)'].values.tolist()\n",
    "LoadC = data1['园区C负荷(kW)'].values.tolist()"
   ]
  },
  {
   "cell_type": "markdown",
   "id": "fbe34bea",
   "metadata": {},
   "source": [
    "#第一问第一小问："
   ]
  },
  {
   "cell_type": "code",
   "execution_count": 5,
   "id": "9fe899bf",
   "metadata": {
    "ExecuteTime": {
     "end_time": "2024-05-25T09:50:33.282294700Z",
     "start_time": "2024-05-25T09:50:33.258313500Z"
    }
   },
   "outputs": [
    {
     "data": {
      "text/plain": "(0.8182957853436275, 0.7159403372243839, 0.7037136059670783)"
     },
     "execution_count": 5,
     "metadata": {},
     "output_type": "execute_result"
    }
   ],
   "source": [
    "EA_buy = np.maximum((np.array(LoadA) - np.array(LightProduceByA)), 0) #shape(24,)\n",
    "EA_curt = np.maximum((np.array(LightProduceByA) - np.array(LoadA)), 0)\n",
    "A_LightProduce = np.array(LightProduceByA)\n",
    "\n",
    "EB_buy = np.maximum((np.array(LoadB) - WinProduceByB), 0)\n",
    "EB_curt = np.maximum((np.array(WinProduceByB) - np.array(LoadB)), 0)\n",
    "B_WindProduce = np.array(WinProduceByB)\n",
    "\n",
    "EC_buy = np.maximum((np.array(LoadC) - np.array(LightProduceByC) - np.array(WinProduceByC)), 0)\n",
    "EC_curt = np.maximum((np.array(LightProduceByC) + np.array(WinProduceByC) - np.array(LoadC)), 0)\n",
    "C_LightProduce = np.array(LightProduceByC)\n",
    "C_WindProduce = np.array(WinProduceByC)\n",
    "\n",
    "def Compute_Single_Cost(E_buy, E_curt, LightProduce, LightPrice, WindProduce, WindPrice):\n",
    "    #array : E_buy, E_curt\n",
    "    #const : LPro, LPri, WPro, WPri\n",
    "    return E_buy * BuyInPrice + WindProduce * WindPrice + LightProduce * LightPrice\n",
    "\n",
    "ACost = Compute_Single_Cost(EA_buy, EA_curt, A_LightProduce, LightProducePrice, 0, WindProducePrice)\n",
    "BCost = Compute_Single_Cost(EB_buy, EB_curt, 0, A_LightProduce, B_WindProduce, WindProducePrice)\n",
    "CCost = Compute_Single_Cost(EC_buy, EC_curt, C_LightProduce, LightProducePrice, C_WindProduce, WindProducePrice)\n",
    "\n",
    "APer = ACost.sum() / np.sum(LoadA)\n",
    "BPer = BCost.sum() / np.sum(LoadB)\n",
    "CPer = CCost.sum() / np.sum(LoadC)\n",
    "\n",
    "APer, BPer, CPer"
   ]
  },
  {
   "cell_type": "code",
   "execution_count": 6,
   "outputs": [],
   "source": [
    "TotalData = pd.DataFrame(columns=[\n",
    "    'A园区购电量',\n",
    "    'A园区弃电量',\n",
    "    'A园区负荷',\n",
    "    'A园区总供电成本',\n",
    "    'A园区平均供电成本',\n",
    "    'B园区购电量',\n",
    "    'B园区弃电量',\n",
    "    'B园区负荷',\n",
    "    'B园区总供电成本',\n",
    "    'B园区平均供电成本',\n",
    "    'C园区购电量',\n",
    "    'C园区弃电量',\n",
    "    'C园区负荷',\n",
    "    'C园区总供电成本',\n",
    "    'C园区平均供电成本'\n",
    "    ])\n",
    "for i in range(len(EA_buy)):\n",
    "    new_row = pd.DataFrame({\n",
    "    'A园区购电量':[EA_buy[i]],\n",
    "    'A园区弃电量':[EA_curt[i]],\n",
    "    'A园区负荷':[LoadA[i]],\n",
    "    'A园区总供电成本':[ACost[i]],\n",
    "    'A园区平均供电成本':[APer],\n",
    "    'B园区购电量':[EB_buy[i]],\n",
    "    'B园区弃电量':[EB_curt[i]],\n",
    "    'B园区负荷':[LoadB[i]],\n",
    "    'B园区总供电成本':[BCost[i]],\n",
    "    'B园区平均供电成本':[BPer],\n",
    "    'C园区购电量':[EC_buy[i]],\n",
    "    'C园区弃电量':[EC_curt[i]],\n",
    "    'C园区负荷':[LoadC[i]],\n",
    "    'C园区总供电成本':[CCost[i]],\n",
    "    'C园区平均供电成本':[CPer],\n",
    "    })\n",
    "    TotalData = pd.concat([TotalData,new_row], ignore_index=False)\n",
    "TotalData.to_excel('第一题第一小问数据.xlsx')"
   ],
   "metadata": {
    "collapsed": false,
    "ExecuteTime": {
     "end_time": "2024-05-25T09:50:34.261043500Z",
     "start_time": "2024-05-25T09:50:34.185362900Z"
    }
   },
   "id": "ba2ea78f80d077bb"
  },
  {
   "cell_type": "code",
   "execution_count": 7,
   "outputs": [
    {
     "data": {
      "text/plain": "0    0\nName: 园区购电量, dtype: int64"
     },
     "execution_count": 7,
     "metadata": {},
     "output_type": "execute_result"
    }
   ],
   "source": [
    "Check_row = pd.DataFrame({\n",
    "'园区购电量':[0],\n",
    "'园区弃电量':[0],\n",
    "'园区负荷':[0],\n",
    "'园区总供电成本':[0],\n",
    "'园区平均供电成本':[0]\n",
    "})\n",
    "Check_row['园区购电量']"
   ],
   "metadata": {
    "collapsed": false,
    "ExecuteTime": {
     "end_time": "2024-05-25T09:50:34.858099100Z",
     "start_time": "2024-05-25T09:50:34.845966100Z"
    }
   },
   "id": "8f2276bc1d1ba21d"
  },
  {
   "cell_type": "markdown",
   "id": "76f9e93e3b694be2",
   "metadata": {},
   "source": [
    "#第一问第二小问："
   ]
  },
  {
   "cell_type": "code",
   "execution_count": 22,
   "id": "35d07c308622fc8b",
   "metadata": {
    "ExecuteTime": {
     "end_time": "2024-05-25T10:20:56.519047100Z",
     "start_time": "2024-05-25T10:20:56.506920600Z"
    }
   },
   "outputs": [],
   "source": [
    "def calculate_costs(Produce,Loads,Price,TypedPrice,NoBattery):\n",
    "    # 初始电池电量设置为电池最大容量的10%\n",
    "    # 最大电池电量设置为电池最大容量的90%\n",
    "    min_battery_Capacity = 0.1 * batteryCapacity\n",
    "    max_battery_Capacity = 0.9 * batteryCapacity\n",
    "    CurrentBatteryCapacity = 10 #初始化电池容量\n",
    "    TotalData = pd.DataFrame(columns=[\n",
    "        '时间', \n",
    "        '电池电量', \n",
    "        '负荷-发电', \n",
    "        '买电花费',\n",
    "        '产电成本',\n",
    "        '总花费',\n",
    "        '买电花费(无电池)',\n",
    "        '产电成本(无电池)',\n",
    "        '总花费(无电池)'\n",
    "        ])\n",
    "    CheckData = pd.DataFrame(columns=[\n",
    "    '园区购电量',\n",
    "    '园区弃电量',\n",
    "    '园区负荷',\n",
    "    '园区总供电成本',\n",
    "    '园区平均供电成本'\n",
    "    ])\n",
    "    FirstFlag = True\n",
    "    iteration = 0\n",
    "    totalcost = 0\n",
    "    temptotal = 0\n",
    "    for PowerProduce,Load in zip(Produce,Loads):#PowerProduce为发电量，Load为负荷量\n",
    "        Check_row = pd.DataFrame({\n",
    "        '园区购电量':[0],\n",
    "        '园区弃电量':[0],\n",
    "        '园区负荷':[Load],\n",
    "        '园区总供电成本':[0],\n",
    "        '园区平均供电成本':[0]\n",
    "        })\n",
    "        Demand = Load-PowerProduce #需电量\n",
    "        BuyInElcCost = 0 #初始化购电费用\n",
    "        ProduceElcCost = 0 #初始化发电费用\n",
    "        # 判断负荷量是否大于发电量\n",
    "        if Demand>0:#需要放电\n",
    "            if CurrentBatteryCapacity>min_battery_Capacity:#判断电池是否可以放电\n",
    "                CurrentBatteryAvalibleCapacity = min(batteryPower,CurrentBatteryCapacity-min_battery_Capacity) #当前可用电量\n",
    "                if(Demand-(CurrentBatteryAvalibleCapacity)*0.95>0):#判断是否需要额外买电\n",
    "                    Check_row['园区购电量'] = (Demand-(CurrentBatteryAvalibleCapacity)*0.95)\n",
    "                    BuyInElcCost = (Demand-(CurrentBatteryAvalibleCapacity)*0.95)/Price\n",
    "                    ProduceElcCost = (PowerProduce*TypedPrice)\n",
    "                    CurrentBatteryCapacity-=CurrentBatteryAvalibleCapacity\n",
    "                else:\n",
    "                    ProduceElcCost = (PowerProduce*TypedPrice)\n",
    "                    CurrentBatteryCapacity = CurrentBatteryCapacity - CurrentBatteryAvalibleCapacity\n",
    "            else:\n",
    "                Check_row['园区购电量'] = Demand\n",
    "                BuyInElcCost = Demand/Price\n",
    "                ProduceElcCost = (PowerProduce*TypedPrice)\n",
    "        else:#可以充电\n",
    "            if (CurrentBatteryCapacity<max_battery_Capacity):#判断电池是否可以充电\n",
    "                CurrentBatteryAvalibleCapacity = min(batteryPower,max_battery_Capacity-CurrentBatteryCapacity) #当前可充电量\n",
    "                if(abs(Demand)-(CurrentBatteryAvalibleCapacity)/0.95>0):#判断是否弃电\n",
    "                    Check_row['园区弃电量'] = abs(Demand)-(CurrentBatteryAvalibleCapacity)/0.95\n",
    "                    ProduceElcCost = (PowerProduce*TypedPrice)\n",
    "                    CurrentBatteryCapacity += CurrentBatteryAvalibleCapacity\n",
    "                else:\n",
    "                    ProduceElcCost = (PowerProduce*TypedPrice)\n",
    "                    CurrentBatteryCapacity = CurrentBatteryCapacity + abs(CurrentBatteryAvalibleCapacity)*0.95\n",
    "            else:\n",
    "                Check_row['园区弃电量'] = abs(Demand)\n",
    "                ProduceElcCost = (PowerProduce*TypedPrice)\n",
    "        totalcost = BuyInElcCost+ProduceElcCost\n",
    "        Check_row['园区总供电成本'] = totalcost\n",
    "        temptotal +=totalcost\n",
    "         # 记录每次循环的数据\n",
    "        new_row = pd.DataFrame({\n",
    "        '时间':[iteration],\n",
    "        '电池电量':[CurrentBatteryCapacity],\n",
    "        '负荷-发电':[Demand],\n",
    "        '买电花费':[BuyInElcCost],\n",
    "        '产电成本':[ProduceElcCost],\n",
    "        '总花费':[totalcost],\n",
    "        '买电花费(无电池)':[NoBattery[0][iteration]],\n",
    "        '产电成本(无电池)':[NoBattery[1][iteration]],\n",
    "        '总花费(无电池)':[NoBattery[2][iteration]]\n",
    "        })\n",
    "        TotalData = pd.concat([TotalData,new_row], ignore_index=False)\n",
    "        CheckData = pd.concat([CheckData,Check_row], ignore_index=False)\n",
    "        iteration +=1\n",
    "    CheckData['园区平均供电成本'] = temptotal/np.sum(np.array(Loads))\n",
    "    return [TotalData,CheckData]"
   ]
  },
  {
   "cell_type": "code",
   "execution_count": 20,
   "id": "edec1f1fb380c835",
   "metadata": {
    "ExecuteTime": {
     "end_time": "2024-05-25T10:20:47.955615900Z",
     "start_time": "2024-05-25T10:20:47.934628700Z"
    }
   },
   "outputs": [],
   "source": [
    "def calculate_costs_for_multy(LightProduce,WindProduce,Loads,Price,LightTypedPrice,WindTypedPrice,NoBattery):\n",
    "    # 初始电池电量设置为电池最大容量的10%\n",
    "    # 最大电池电量设置为电池最大容量的90%\n",
    "    min_battery_Capacity = 0.1 * batteryCapacity\n",
    "    max_battery_Capacity = 0.9 * batteryCapacity\n",
    "    CurrentBatteryCapacity = 10 #初始化电池容量\n",
    "    TotalData = pd.DataFrame(columns=[\n",
    "        '时间', \n",
    "        '电池电量', \n",
    "        '负荷-发电', \n",
    "        '买电花费',\n",
    "        '产电成本',\n",
    "        '总花费',\n",
    "        '买电花费(无电池)',\n",
    "        '产电成本(无电池)',\n",
    "        '总花费(无电池)'\n",
    "        ])\n",
    "    CheckData = pd.DataFrame(columns=[\n",
    "    '园区购电量',\n",
    "    '园区弃电量',\n",
    "    '园区负荷',\n",
    "    '园区总供电成本',\n",
    "    '园区平均供电成本'\n",
    "    ])\n",
    "    FirstFlag = True\n",
    "    iteration = 0\n",
    "    totalcost = 0\n",
    "    temptotal = 0\n",
    "    for LightPowerProduce,WindPowerProduce,Load in zip(LightProduce,WindProduce,Loads):#PowerProduce为发电量，Load为负荷量\n",
    "        Check_row = pd.DataFrame({\n",
    "        '园区购电量':[0],\n",
    "        '园区弃电量':[0],\n",
    "        '园区负荷':[Load],\n",
    "        '园区总供电成本':[0],\n",
    "        '园区平均供电成本':[0]\n",
    "        })\n",
    "        PowerProduce = (LightPowerProduce+WindPowerProduce)\n",
    "        Demand = Load-(LightPowerProduce+WindPowerProduce) #需电量\n",
    "        BuyInElcCost = 0 #初始化购电费用\n",
    "        ProduceElcCost = 0 #初始化发电费用\n",
    "        # 判断负荷量是否大于发电量\n",
    "        if Demand>0:#需要放电\n",
    "            if CurrentBatteryCapacity>min_battery_Capacity:#判断电池是否可以放电\n",
    "                CurrentBatteryAvalibleCapacity = min(batteryPower,CurrentBatteryCapacity-min_battery_Capacity) #当前可用电量\n",
    "                if(Demand-(CurrentBatteryAvalibleCapacity)*0.95>0):#判断是否需要额外买电\n",
    "                    Check_row['园区购电量'] = (Demand-(CurrentBatteryAvalibleCapacity)*0.95)\n",
    "                    BuyInElcCost = (Demand-(CurrentBatteryAvalibleCapacity)*0.95)/Price\n",
    "                    ProduceElcCost = (LightPowerProduce*LightTypedPrice)+(WindPowerProduce*WindTypedPrice)\n",
    "                    CurrentBatteryCapacity-=CurrentBatteryAvalibleCapacity\n",
    "                else:\n",
    "                    ProduceElcCost = (LightPowerProduce*LightTypedPrice)+(WindPowerProduce*WindTypedPrice)\n",
    "                    CurrentBatteryCapacity = CurrentBatteryCapacity - CurrentBatteryAvalibleCapacity\n",
    "            else:\n",
    "                Check_row['园区购电量'] = Demand\n",
    "                BuyInElcCost = Demand/Price\n",
    "                ProduceElcCost = (LightPowerProduce*LightTypedPrice)+(WindPowerProduce*WindTypedPrice)\n",
    "        else:#可以充电\n",
    "            if (CurrentBatteryCapacity<max_battery_Capacity):#判断电池是否可以充电\n",
    "                CurrentBatteryAvalibleCapacity = min(batteryPower,max_battery_Capacity-CurrentBatteryCapacity) #当前可充电量\n",
    "                if(abs(Demand)-(CurrentBatteryAvalibleCapacity)/0.95>0):#判断是否弃电\n",
    "                    Check_row['园区弃电量'] = abs(Demand)-(CurrentBatteryAvalibleCapacity)/0.95\n",
    "                    ProduceElcCost = (LightPowerProduce*LightTypedPrice)+(WindPowerProduce*WindTypedPrice)\n",
    "                    CurrentBatteryCapacity += CurrentBatteryAvalibleCapacity\n",
    "                else:\n",
    "                    ProduceElcCost = (LightPowerProduce*LightTypedPrice)+(WindPowerProduce*WindTypedPrice)\n",
    "                    CurrentBatteryCapacity = CurrentBatteryCapacity + abs(CurrentBatteryAvalibleCapacity)*0.95\n",
    "            else:\n",
    "                Check_row['园区弃电量'] = abs(Demand)\n",
    "                ProduceElcCost = (LightPowerProduce*LightTypedPrice)+(WindPowerProduce*WindTypedPrice)\n",
    "        totalcost = BuyInElcCost+ProduceElcCost\n",
    "        Check_row['园区总供电成本'] = totalcost\n",
    "        temptotal +=totalcost\n",
    "         # 记录每次循环的数据\n",
    "        new_row = pd.DataFrame({\n",
    "        '时间':[iteration],\n",
    "        '电池电量':[CurrentBatteryCapacity],\n",
    "        '负荷-发电':[Demand],\n",
    "        '买电花费':[BuyInElcCost],\n",
    "        '产电成本':[ProduceElcCost],\n",
    "        '总花费':[totalcost],\n",
    "        '买电花费(无电池)':[NoBattery[0][iteration]],\n",
    "        '产电成本(无电池)':[NoBattery[1][iteration]],\n",
    "        '总花费(无电池)':[NoBattery[2][iteration]]\n",
    "        })\n",
    "        TotalData = pd.concat([TotalData,new_row], ignore_index=False)\n",
    "        CheckData = pd.concat([CheckData,Check_row], ignore_index=False)\n",
    "        iteration +=1\n",
    "    CheckData['园区平均供电成本'] = temptotal/np.sum(np.array(Loads))\n",
    "            \n",
    "    return [TotalData,CheckData]"
   ]
  },
  {
   "cell_type": "code",
   "execution_count": 23,
   "id": "6ca2b522acaa0fed",
   "metadata": {
    "ExecuteTime": {
     "end_time": "2024-05-25T10:21:11.530712400Z",
     "start_time": "2024-05-25T10:21:11.224173300Z"
    }
   },
   "outputs": [],
   "source": [
    "calculate_costs(LightProduceByA,LoadA,BuyInPrice,LightProducePrice,[EA_buy*BuyInPrice,\n",
    "                                                                    A_LightProduce*LightProducePrice,\n",
    "                                                                    ACost])[0].to_excel('第一问第二小问园区A.xlsx')\n",
    "calculate_costs(LightProduceByA,LoadA,BuyInPrice,LightProducePrice,[EA_buy*BuyInPrice,\n",
    "                                                                    A_LightProduce*LightProducePrice,\n",
    "                                                                    ACost])[1].to_excel('第一问第二小问园区A_用于对比第一小问.xlsx')\n",
    "calculate_costs(WinProduceByB,LoadB,BuyInPrice,WindProducePrice,[EB_buy*BuyInPrice,\n",
    "                                                                 B_WindProduce*WindProducePrice,\n",
    "                                                                 BCost])[0].to_excel('第一问第二小问园区B.xlsx')\n",
    "calculate_costs(WinProduceByB,LoadB,BuyInPrice,WindProducePrice,[EB_buy*BuyInPrice,\n",
    "                                                                 B_WindProduce*WindProducePrice,\n",
    "                                                                 BCost])[1].to_excel('第一问第二小问园区B_用于对比第一小问.xlsx')\n",
    "calculate_costs_for_multy(LightProduceByC,WinProduceByC,LoadC,BuyInPrice,LightProducePrice,WindProducePrice,[\n",
    "    EC_buy*BuyInPrice,\n",
    "    C_LightProduce*LightProducePrice+C_WindProduce*WindProducePrice,\n",
    "    CCost])[0].to_excel('第一问第二小问园区C.xlsx')\n",
    "calculate_costs_for_multy(LightProduceByC,WinProduceByC,LoadC,BuyInPrice,LightProducePrice,WindProducePrice,[\n",
    "    EC_buy*BuyInPrice,\n",
    "    C_LightProduce*LightProducePrice+C_WindProduce*WindProducePrice,\n",
    "    CCost])[1].to_excel('第一问第二小问园区C_用于对比第一小问.xlsx')"
   ]
  },
  {
   "cell_type": "markdown",
   "id": "92e1d730",
   "metadata": {},
   "source": [
    "#第一问第三小问"
   ]
  },
  {
   "cell_type": "code",
   "execution_count": null,
   "id": "9aa66703",
   "metadata": {},
   "outputs": [],
   "source": [
    "st_c = 80\n",
    "end_c = 250\n",
    "step_c = 1\n",
    "st_p = 50\n",
    "end_p = 200\n",
    "step_p = 1\n",
    "CapacityRange = np.arange(st_c,end_c,step_c)\n",
    "PowerRange = np.arange(st_p,end_p,step_p)\n",
    "TotalCost_Q_1_3 = np.zeros((len(PowerRange), len(CapacityRange)))\n",
    "x=-1\n",
    "for batteryPower in tqdm(PowerRange,desc=\"Power\"):\n",
    "    x+=1\n",
    "    y=-1\n",
    "    for batteryCapacity in tqdm(CapacityRange,desc=\"Capacity\",leave = False):\n",
    "        y+=1\n",
    "        SetBatteryCostPer = (batteryCapacity*1800 + batteryPower*800) / (10*365) #分十年均摊电池费用到每天\n",
    "        TotalCost_Q_1_3[x,y] = (calculate_costs(LightProduceByA,LoadA,BuyInPrice,LightProducePrice) + \n",
    "                               calculate_costs(WinProduceByB,LoadB,BuyInPrice,WindProducePrice) + \n",
    "                              calculate_costs_for_multy(LightProduceByC,WinProduceByC,LoadC,BuyInPrice,LightProducePrice,WindProducePrice) + \n",
    "                               SetBatteryCostPer)"
   ]
  },
  {
   "cell_type": "code",
   "execution_count": null,
   "id": "163c8bfa",
   "metadata": {
    "ExecuteTime": {
     "start_time": "2024-05-25T02:47:23.777517200Z"
    }
   },
   "outputs": [],
   "source": [
    "def Plot_3D(X,xLabel, Y,yLabel, Z,zLabel,title):\n",
    "    print(X.shape,Y.shape)\n",
    "    X, Y = np.meshgrid(X, Y)\n",
    "    Z = np.array(Z)\n",
    "    fig = plt.figure()\n",
    "    ax = fig.add_subplot(111, projection='3d')\n",
    "    surf = ax.plot_surface(X, Y, Z, cmap=cm.coolwarm,\n",
    "                           linewidth=0, antialiased=True)\n",
    "    fig.colorbar(surf, shrink=0.5, aspect=5)\n",
    "    ax.set_xlabel(xLabel)\n",
    "    ax.set_ylabel(yLabel)\n",
    "    ax.set_zlabel(zLabel)\n",
    "    ax.set_title(title)\n",
    "    plt.show()\n",
    "\n",
    "Plot_3D(CapacityRange, 'Capacity',PowerRange,'Power', TotalCost_Q_1_3, 'TotalCost' , 'TotalCost with different Power and Capacity')\n",
    "Plot_3D(PowerRange, 'Power', CapacityRange, 'Capacity',  ACost.sum()+BCost.sum()+CCost.sum()-TotalCost_Q_1_3.T, 'Savings' ,'Difference When battery Added')"
   ]
  },
  {
   "cell_type": "code",
   "execution_count": null,
   "outputs": [],
   "source": [
    "MinTotalCost_Q_1_3 = np.min(np.array(TotalCost_Q_1_3))\n",
    "MinTotalCost_index_Q_1_3 = np.where(np.array(TotalCost_Q_1_3) == MinTotalCost_Q_1_3)\n",
    "Min_Power_Capacity = list(zip(MinTotalCost_index_Q_1_3[0]+st_p, MinTotalCost_index_Q_1_3[1]+st_c))\n",
    "np.array(TotalCost_Q_1_3).shape,MinTotalCost_Q_1_3,Min_Power_Capacity"
   ],
   "metadata": {
    "collapsed": false
   },
   "id": "97053c9246a71379"
  },
  {
   "cell_type": "markdown",
   "source": [
    "#第二问 第一小题"
   ],
   "metadata": {
    "collapsed": false
   },
   "id": "3c778786807c4ec0"
  },
  {
   "cell_type": "code",
   "execution_count": null,
   "outputs": [],
   "source": [
    "TotalLoad = []\n",
    "ToTalProduce = []\n",
    "LightProduceByTotal = []\n",
    "WindProduceByTotal = []\n",
    "for A,B,C in zip(LoadA,LoadB,LoadC):\n",
    "    TotalLoad.append(A+B+C)\n",
    "for A,B,C,D in zip(LightProduceByA,(WinProduceByB),(LightProduceByC),(WinProduceByC)):\n",
    "    ToTalProduce.append(A+B+C+D)\n",
    "for A,B in zip(LightProduceByA,LightProduceByC):\n",
    "    LightProduceByTotal.append(A+B)\n",
    "for A,B in zip(WinProduceByB,WinProduceByC):\n",
    "    WindProduceByTotal.append(A+B)\n",
    "\n",
    "ELeBuyTotal = np.maximum((np.array(TotalLoad) - np.array(ToTalProduce)), 0)\n",
    "EleCurtTotal = np.maximum((np.array(ToTalProduce) - np.array(TotalLoad)), 0)\n",
    "\n",
    "\n",
    "def Compute_Single_Cost(E_buy, E_curt, LightProduce, LightPrice, WindProduce, WindPrice):\n",
    "    #array : E_buy, E_curt\n",
    "    #const : LPro, LPri, WPro, WPri\n",
    "    return E_buy * BuyInPrice + WindProduce * WindPrice + LightProduce * LightPrice\n",
    "\n",
    "TotalCost = Compute_Single_Cost(ELeBuyTotal, EleCurtTotal, np.array(LightProduceByTotal), LightProducePrice, np.array(WindProduceByTotal), WindProducePrice)\n",
    "\n",
    "TotalPer = TotalCost.sum() / np.sum(TotalLoad)\n",
    "TotalData = pd.DataFrame(columns=[\n",
    "    '复合园区购电量',\n",
    "    '复合园区弃电量',\n",
    "    '复合园区负荷',\n",
    "    '复合园区总供电成本',\n",
    "    '复合园区平均供电成本',\n",
    "    ])\n",
    "for i in range(len(EA_buy)):\n",
    "    new_row = pd.DataFrame({\n",
    "    '复合园区购电量':[ELeBuyTotal[i]],\n",
    "    '复合园区弃电量':[EleCurtTotal[i]],\n",
    "    '复合园区负荷':[TotalLoad[i]],\n",
    "    '复合园区总供电成本':[TotalCost[i]],\n",
    "    '复合园区平均供电成本':[TotalPer],\n",
    "    })\n",
    "    TotalData = pd.concat([TotalData,new_row], ignore_index=False)\n",
    "TotalData.to_excel('第二题第一小问数据.xlsx')"
   ],
   "metadata": {
    "collapsed": false
   },
   "id": "3bf1b7bc15648693"
  },
  {
   "cell_type": "markdown",
   "source": [
    "#第二问 第二小题"
   ],
   "metadata": {
    "collapsed": false
   },
   "id": "e948ef69c796d784"
  },
  {
   "cell_type": "code",
   "execution_count": null,
   "outputs": [],
   "source": [],
   "metadata": {
    "collapsed": false
   },
   "id": "c9524d29530889df"
  }
 ],
 "metadata": {
  "kernelspec": {
   "name": "python3",
   "language": "python",
   "display_name": "Python 3 (ipykernel)"
  },
  "language_info": {
   "codemirror_mode": {
    "name": "ipython",
    "version": 3
   },
   "file_extension": ".py",
   "mimetype": "text/x-python",
   "name": "python",
   "nbconvert_exporter": "python",
   "pygments_lexer": "ipython3",
   "version": "3.8.18"
  }
 },
 "nbformat": 4,
 "nbformat_minor": 5
}
